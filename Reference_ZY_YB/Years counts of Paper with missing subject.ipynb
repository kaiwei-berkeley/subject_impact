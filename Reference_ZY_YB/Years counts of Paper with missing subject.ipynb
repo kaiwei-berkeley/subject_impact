{
 "cells": [
  {
   "cell_type": "code",
   "execution_count": 1,
   "metadata": {},
   "outputs": [],
   "source": [
    "# read data\n",
    "import pandas as pd\n",
    "match = pd.read_csv('paper_subject_match.csv')\n",
    "reference = pd.read_csv('paper_info.csv')"
   ]
  },
  {
   "cell_type": "code",
   "execution_count": 2,
   "metadata": {},
   "outputs": [
    {
     "data": {
      "text/plain": [
       "id                    0\n",
       "paper_subject    346615\n",
       "dtype: int64"
      ]
     },
     "execution_count": 2,
     "metadata": {},
     "output_type": "execute_result"
    }
   ],
   "source": [
    "# check for missing value\n",
    "match.isnull().sum()"
   ]
  },
  {
   "cell_type": "code",
   "execution_count": 3,
   "metadata": {},
   "outputs": [
    {
     "data": {
      "text/plain": [
       "2000    50243\n",
       "2001    38025\n",
       "2002    32418\n",
       "2003    26959\n",
       "2004    24957\n",
       "2005    22755\n",
       "2006    21250\n",
       "2007    18717\n",
       "2011    17166\n",
       "2008    16616\n",
       "2013    15243\n",
       "2010    15088\n",
       "2009    14598\n",
       "2012    13987\n",
       "2014    12413\n",
       "2015     6180\n",
       "Name: year, dtype: int64"
      ]
     },
     "execution_count": 3,
     "metadata": {},
     "output_type": "execute_result"
    }
   ],
   "source": [
    "###### years counts of paper with missing subject ######\n",
    "\n",
    "null_data = match[match.isnull().any(axis=1)]\n",
    "#null_data.head()\n",
    "\n",
    "null_data_index = null_data.index.values.tolist()\n",
    "#null_data_index[:10]\n",
    "\n",
    "null_data_year = reference.loc[null_data_index,'year']\n",
    "#null_data_year.head(10)\n",
    "\n",
    "null_data_year.value_counts()"
   ]
  },
  {
   "cell_type": "code",
   "execution_count": null,
   "metadata": {},
   "outputs": [],
   "source": []
  }
 ],
 "metadata": {
  "kernelspec": {
   "display_name": "Python 3",
   "language": "python",
   "name": "python3"
  },
  "language_info": {
   "codemirror_mode": {
    "name": "ipython",
    "version": 3
   },
   "file_extension": ".py",
   "mimetype": "text/x-python",
   "name": "python",
   "nbconvert_exporter": "python",
   "pygments_lexer": "ipython3",
   "version": "3.6.5"
  }
 },
 "nbformat": 4,
 "nbformat_minor": 2
}
