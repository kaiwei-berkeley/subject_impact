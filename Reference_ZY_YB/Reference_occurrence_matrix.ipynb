{
 "cells": [
  {
   "cell_type": "code",
   "execution_count": null,
   "metadata": {},
   "outputs": [],
   "source": [
    "# read paper_subject_match\n",
    "import pandas as pd\n",
    "match = pd.read_csv('paper_subject_match.csv')\n",
    "# read paper_info\n",
    "reference = pd.read_csv('paper_info.csv')"
   ]
  },
  {
   "cell_type": "code",
   "execution_count": null,
   "metadata": {},
   "outputs": [],
   "source": [
    "reference.columns = ['id', 'year', 'references', 'subjects']"
   ]
  },
  {
   "cell_type": "code",
   "execution_count": null,
   "metadata": {},
   "outputs": [],
   "source": [
    "###### convert 'references' column to list ######\n",
    "new_col = []\n",
    "for i in range(len(reference)):\n",
    "    words = reference.loc[i,'refereneces']\n",
    "    words_split = words.split(',')\n",
    "    for j in range(len(words_split)):\n",
    "        words_split[j] = words_split[j].strip(\" '[]\")\n",
    "    new_col.append(words_split)\n",
    "    \n",
    "reference['references'] = new_col\n",
    "reference.head()"
   ]
  },
  {
   "cell_type": "code",
   "execution_count": null,
   "metadata": {},
   "outputs": [],
   "source": [
    "##### add paper's subject as new col ######\n",
    "reference['paper_subject'] = match['paper_subject']"
   ]
  },
  {
   "cell_type": "code",
   "execution_count": null,
   "metadata": {},
   "outputs": [],
   "source": [
    "# reset 'id' column as index\n",
    "reference = reference.set_index('id',)"
   ]
  },
  {
   "cell_type": "code",
   "execution_count": null,
   "metadata": {},
   "outputs": [],
   "source": [
    "###### find subjects of reference ######\n",
    "reference_subjects = []\n",
    "row = 1\n",
    "for i in reference.index:\n",
    "    references = reference.loc[i,'references']\n",
    "    index = [x for x in references if x in reference.index.tolist()]\n",
    "    subjects = reference.loc[index,'paper_subject'].tolist()\n",
    "    reference_subjects.append(subjects)\n",
    "    print('row ' + str(row) + ' finished')\n",
    "    row +=1\n",
    "\n",
    "reference['reference_subjects'] = reference_subjects\n",
    "reference.head()          "
   ]
  },
  {
   "cell_type": "code",
   "execution_count": null,
   "metadata": {},
   "outputs": [],
   "source": [
    "###### separate pairs ######\n",
    "import numpy as np\n",
    "impact = reference.loc[:,['paper_subject', 'reference_subjects']]\n",
    "def explode(df, lst_cols, fill_value='', preserve_index=False):\n",
    "    # make sure `lst_cols` is list-alike\n",
    "    if (lst_cols is not None\n",
    "        and len(lst_cols) > 0\n",
    "        and not isinstance(lst_cols, (list, tuple, np.ndarray, pd.Series))):\n",
    "        lst_cols = [lst_cols]\n",
    "    # all columns except `lst_cols`\n",
    "    idx_cols = df.columns.difference(lst_cols)\n",
    "    # calculate lengths of lists\n",
    "    lens = df[lst_cols[0]].str.len()\n",
    "    # preserve original index values    \n",
    "    idx = np.repeat(df.index.values, lens)\n",
    "    # create \"exploded\" DF\n",
    "    res = (pd.DataFrame({\n",
    "                col:np.repeat(df[col].values, lens)\n",
    "                for col in idx_cols},\n",
    "                index=idx)\n",
    "             .assign(**{col:np.concatenate(df.loc[lens>0, col].values)\n",
    "                            for col in lst_cols}))\n",
    "    # append those rows that have empty lists\n",
    "    if (lens == 0).any():\n",
    "        # at least one list in cells is empty\n",
    "        res = (res.append(df.loc[lens==0, idx_cols], sort=False))\n",
    "    # revert the original index order\n",
    "    res = res.sort_index()\n",
    "    # reset index if requested\n",
    "    if not preserve_index:        \n",
    "        res = res.reset_index(drop=True)\n",
    "    return res\n",
    "\n",
    "impact2 = explode(impact, 'reference_subjects')\n",
    "impact2.dropna(inplace = True)"
   ]
  },
  {
   "cell_type": "code",
   "execution_count": null,
   "metadata": {},
   "outputs": [],
   "source": [
    "###### occurrence matrix ######\n",
    "matrix = pd.get_dummies(impact2['reference_subjects']).groupby(impact2['paper_subject']).apply(sum)\n",
    "matrix"
   ]
  },
  {
   "cell_type": "code",
   "execution_count": null,
   "metadata": {},
   "outputs": [],
   "source": [
    "###### TF-IDF ######\n",
    "impact3 = impact2.groupby(['paper_subject','reference_subjects']).size().reset_index()\n",
    "N = len(impact2['paper_subject'].unique())\n",
    "D = dict(impact3['reference_subjects'].value_counts())\n",
    "\n",
    "import numpy as np\n",
    "idf = {}\n",
    "for d in D:\n",
    "    idf[d] = np.log( N / D[d] )"
   ]
  },
  {
   "cell_type": "code",
   "execution_count": null,
   "metadata": {},
   "outputs": [],
   "source": [
    "for key in idf:\n",
    "    if key not in matrix.index:\n",
    "        continue\n",
    "    else:\n",
    "        matrix.loc[key] = matrix.loc[key] * idf[key]\n",
    "matrix"
   ]
  },
  {
   "cell_type": "code",
   "execution_count": null,
   "metadata": {},
   "outputs": [],
   "source": [
    "###### visualization of matrix ######\n",
    "%matplotlib inline\n",
    "import seaborn as sns\n",
    "sns.heatmap(matrix)"
   ]
  },
  {
   "cell_type": "code",
   "execution_count": null,
   "metadata": {},
   "outputs": [],
   "source": []
  }
 ],
 "metadata": {
  "kernelspec": {
   "display_name": "Python 3",
   "language": "python",
   "name": "python3"
  },
  "language_info": {
   "codemirror_mode": {
    "name": "ipython",
    "version": 3
   },
   "file_extension": ".py",
   "mimetype": "text/x-python",
   "name": "python",
   "nbconvert_exporter": "python",
   "pygments_lexer": "ipython3",
   "version": "3.6.5"
  }
 },
 "nbformat": 4,
 "nbformat_minor": 2
}
