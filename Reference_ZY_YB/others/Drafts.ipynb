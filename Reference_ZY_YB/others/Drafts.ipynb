{
 "cells": [
  {
   "cell_type": "code",
   "execution_count": 3,
   "metadata": {},
   "outputs": [],
   "source": [
    "import pandas as pd\n",
    "subject = pd.read_csv('paper_subject_match.csv')"
   ]
  },
  {
   "cell_type": "code",
   "execution_count": 8,
   "metadata": {},
   "outputs": [
    {
     "data": {
      "text/html": [
       "<div>\n",
       "<style scoped>\n",
       "    .dataframe tbody tr th:only-of-type {\n",
       "        vertical-align: middle;\n",
       "    }\n",
       "\n",
       "    .dataframe tbody tr th {\n",
       "        vertical-align: top;\n",
       "    }\n",
       "\n",
       "    .dataframe thead th {\n",
       "        text-align: right;\n",
       "    }\n",
       "</style>\n",
       "<table border=\"1\" class=\"dataframe\">\n",
       "  <thead>\n",
       "    <tr style=\"text-align: right;\">\n",
       "      <th></th>\n",
       "      <th>id</th>\n",
       "      <th>paper_subject</th>\n",
       "    </tr>\n",
       "  </thead>\n",
       "  <tbody>\n",
       "    <tr>\n",
       "      <th>0</th>\n",
       "      <td>53e99784b7602d9701f3e13e</td>\n",
       "      <td>13.0</td>\n",
       "    </tr>\n",
       "    <tr>\n",
       "      <th>1</th>\n",
       "      <td>53e99784b7602d9701f3e4f2</td>\n",
       "      <td>13.0</td>\n",
       "    </tr>\n",
       "    <tr>\n",
       "      <th>2</th>\n",
       "      <td>53e9978db7602d9701f4f415</td>\n",
       "      <td>13.0</td>\n",
       "    </tr>\n",
       "    <tr>\n",
       "      <th>3</th>\n",
       "      <td>53e99792b7602d9701f56a86</td>\n",
       "      <td>27.0</td>\n",
       "    </tr>\n",
       "    <tr>\n",
       "      <th>4</th>\n",
       "      <td>53e99792b7602d9701f5b087</td>\n",
       "      <td>NaN</td>\n",
       "    </tr>\n",
       "  </tbody>\n",
       "</table>\n",
       "</div>"
      ],
      "text/plain": [
       "                         id  paper_subject\n",
       "0  53e99784b7602d9701f3e13e           13.0\n",
       "1  53e99784b7602d9701f3e4f2           13.0\n",
       "2  53e9978db7602d9701f4f415           13.0\n",
       "3  53e99792b7602d9701f56a86           27.0\n",
       "4  53e99792b7602d9701f5b087            NaN"
      ]
     },
     "execution_count": 8,
     "metadata": {},
     "output_type": "execute_result"
    }
   ],
   "source": [
    "subject.head()"
   ]
  },
  {
   "cell_type": "code",
   "execution_count": 9,
   "metadata": {},
   "outputs": [
    {
     "data": {
      "text/html": [
       "<div>\n",
       "<style scoped>\n",
       "    .dataframe tbody tr th:only-of-type {\n",
       "        vertical-align: middle;\n",
       "    }\n",
       "\n",
       "    .dataframe tbody tr th {\n",
       "        vertical-align: top;\n",
       "    }\n",
       "\n",
       "    .dataframe thead th {\n",
       "        text-align: right;\n",
       "    }\n",
       "</style>\n",
       "<table border=\"1\" class=\"dataframe\">\n",
       "  <thead>\n",
       "    <tr style=\"text-align: right;\">\n",
       "      <th></th>\n",
       "      <th>paper_subject</th>\n",
       "    </tr>\n",
       "  </thead>\n",
       "  <tbody>\n",
       "    <tr>\n",
       "      <th>count</th>\n",
       "      <td>2.206212e+06</td>\n",
       "    </tr>\n",
       "    <tr>\n",
       "      <th>mean</th>\n",
       "      <td>2.223229e+01</td>\n",
       "    </tr>\n",
       "    <tr>\n",
       "      <th>std</th>\n",
       "      <td>7.494960e+00</td>\n",
       "    </tr>\n",
       "    <tr>\n",
       "      <th>min</th>\n",
       "      <td>1.000000e+01</td>\n",
       "    </tr>\n",
       "    <tr>\n",
       "      <th>25%</th>\n",
       "      <td>1.300000e+01</td>\n",
       "    </tr>\n",
       "    <tr>\n",
       "      <th>50%</th>\n",
       "      <td>2.700000e+01</td>\n",
       "    </tr>\n",
       "    <tr>\n",
       "      <th>75%</th>\n",
       "      <td>2.700000e+01</td>\n",
       "    </tr>\n",
       "    <tr>\n",
       "      <th>max</th>\n",
       "      <td>3.600000e+01</td>\n",
       "    </tr>\n",
       "  </tbody>\n",
       "</table>\n",
       "</div>"
      ],
      "text/plain": [
       "       paper_subject\n",
       "count   2.206212e+06\n",
       "mean    2.223229e+01\n",
       "std     7.494960e+00\n",
       "min     1.000000e+01\n",
       "25%     1.300000e+01\n",
       "50%     2.700000e+01\n",
       "75%     2.700000e+01\n",
       "max     3.600000e+01"
      ]
     },
     "execution_count": 9,
     "metadata": {},
     "output_type": "execute_result"
    }
   ],
   "source": [
    "subject.describe()"
   ]
  },
  {
   "cell_type": "code",
   "execution_count": 10,
   "metadata": {},
   "outputs": [
    {
     "data": {
      "text/plain": [
       "(2552827, 2)"
      ]
     },
     "execution_count": 10,
     "metadata": {},
     "output_type": "execute_result"
    }
   ],
   "source": [
    "subject.shape"
   ]
  },
  {
   "cell_type": "code",
   "execution_count": 11,
   "metadata": {},
   "outputs": [
    {
     "data": {
      "text/plain": [
       "id                    0\n",
       "paper_subject    346615\n",
       "dtype: int64"
      ]
     },
     "execution_count": 11,
     "metadata": {},
     "output_type": "execute_result"
    }
   ],
   "source": [
    "subject.isnull().sum()"
   ]
  },
  {
   "cell_type": "code",
   "execution_count": 12,
   "metadata": {},
   "outputs": [
    {
     "data": {
      "text/plain": [
       "27.0    854972\n",
       "13.0    396195\n",
       "11.0    221256\n",
       "28.0     94014\n",
       "30.0     73408\n",
       "24.0     68883\n",
       "31.0     67888\n",
       "16.0     60198\n",
       "10.0     58885\n",
       "22.0     45150\n",
       "23.0     36837\n",
       "32.0     35953\n",
       "29.0     26749\n",
       "33.0     25913\n",
       "26.0     25346\n",
       "35.0     21663\n",
       "34.0     20479\n",
       "17.0     18008\n",
       "25.0     16818\n",
       "12.0     11115\n",
       "36.0     10109\n",
       "15.0      8643\n",
       "19.0      3654\n",
       "21.0      1848\n",
       "20.0      1246\n",
       "14.0       890\n",
       "18.0        92\n",
       "Name: paper_subject, dtype: int64"
      ]
     },
     "execution_count": 12,
     "metadata": {},
     "output_type": "execute_result"
    }
   ],
   "source": [
    "subject['paper_subject'].value_counts()"
   ]
  },
  {
   "cell_type": "code",
   "execution_count": 14,
   "metadata": {},
   "outputs": [
    {
     "data": {
      "text/plain": [
       "array([13., 27., nan, 31., 28., 32., 29., 30., 16., 11., 24., 22., 10.,\n",
       "       12., 33., 35., 26., 20., 17., 34., 36., 19., 25., 15., 23., 14.,\n",
       "       21., 18.])"
      ]
     },
     "execution_count": 14,
     "metadata": {},
     "output_type": "execute_result"
    }
   ],
   "source": [
    "# 27 subjects + 1 nan\n",
    "subject['paper_subject'].unique()"
   ]
  },
  {
   "cell_type": "code",
   "execution_count": null,
   "metadata": {},
   "outputs": [],
   "source": [
    "subject_new"
   ]
  },
  {
   "cell_type": "code",
   "execution_count": null,
   "metadata": {},
   "outputs": [],
   "source": []
  },
  {
   "cell_type": "code",
   "execution_count": 18,
   "metadata": {},
   "outputs": [
    {
     "data": {
      "text/html": [
       "<div>\n",
       "<style scoped>\n",
       "    .dataframe tbody tr th:only-of-type {\n",
       "        vertical-align: middle;\n",
       "    }\n",
       "\n",
       "    .dataframe tbody tr th {\n",
       "        vertical-align: top;\n",
       "    }\n",
       "\n",
       "    .dataframe thead th {\n",
       "        text-align: right;\n",
       "    }\n",
       "</style>\n",
       "<table border=\"1\" class=\"dataframe\">\n",
       "  <thead>\n",
       "    <tr style=\"text-align: right;\">\n",
       "      <th></th>\n",
       "      <th>id</th>\n",
       "      <th>year</th>\n",
       "      <th>refereneces</th>\n",
       "      <th>subjects</th>\n",
       "    </tr>\n",
       "  </thead>\n",
       "  <tbody>\n",
       "    <tr>\n",
       "      <th>0</th>\n",
       "      <td>53e99784b7602d9701f3e13e</td>\n",
       "      <td>2011</td>\n",
       "      <td>['53e99b4ab7602d97023ea8fd', '53e997f8b7602d97...</td>\n",
       "      <td>[1308, 1312, 1307]</td>\n",
       "    </tr>\n",
       "    <tr>\n",
       "      <th>1</th>\n",
       "      <td>53e99784b7602d9701f3e4f2</td>\n",
       "      <td>2002</td>\n",
       "      <td>['53e9a611b7602d9702f42159', '53e9b316b7602d97...</td>\n",
       "      <td>[2716, 1311, 1313, 1312]</td>\n",
       "    </tr>\n",
       "    <tr>\n",
       "      <th>2</th>\n",
       "      <td>53e9978db7602d9701f4f415</td>\n",
       "      <td>2005</td>\n",
       "      <td>['53e9aa41b7602d97033af1b3', '53e9b1b0b7602d97...</td>\n",
       "      <td>[1300]</td>\n",
       "    </tr>\n",
       "    <tr>\n",
       "      <th>3</th>\n",
       "      <td>53e99792b7602d9701f56a86</td>\n",
       "      <td>2004</td>\n",
       "      <td>['53e9abbeb7602d970356d932', '53e9ad6cb7602d97...</td>\n",
       "      <td>[2738]</td>\n",
       "    </tr>\n",
       "    <tr>\n",
       "      <th>4</th>\n",
       "      <td>53e99792b7602d9701f5b087</td>\n",
       "      <td>2008</td>\n",
       "      <td>['53e99f9bb7602d970287329d', '53e9abfdb7602d97...</td>\n",
       "      <td>[2503, 2506, 2505, 2508, 2504, 1600, 1503]</td>\n",
       "    </tr>\n",
       "    <tr>\n",
       "      <th>5</th>\n",
       "      <td>53e99792b7602d9701f5b091</td>\n",
       "      <td>2004</td>\n",
       "      <td>['53e997fcb7602d97020091fa', '53e9adbdb7602d97...</td>\n",
       "      <td>[2712]</td>\n",
       "    </tr>\n",
       "    <tr>\n",
       "      <th>6</th>\n",
       "      <td>53e99792b7602d9701f5b09f</td>\n",
       "      <td>2009</td>\n",
       "      <td>['53e9a95db7602d97032b676d', '53e99b71b7602d97...</td>\n",
       "      <td>[2102, 1500, 2103, 3100, 1600]</td>\n",
       "    </tr>\n",
       "    <tr>\n",
       "      <th>7</th>\n",
       "      <td>53e99792b7602d9701f5b0c0</td>\n",
       "      <td>2004</td>\n",
       "      <td>['53e99f9bb7602d970286e53d', '53e9a011b7602d97...</td>\n",
       "      <td>[2732, 2739, 2737]</td>\n",
       "    </tr>\n",
       "    <tr>\n",
       "      <th>8</th>\n",
       "      <td>53e99792b7602d9701f5b0c9</td>\n",
       "      <td>2006</td>\n",
       "      <td>['53e9a90db7602d970325f655', '53e99e78b7602d97...</td>\n",
       "      <td>[2746]</td>\n",
       "    </tr>\n",
       "    <tr>\n",
       "      <th>9</th>\n",
       "      <td>53e99792b7602d9701f5b10c</td>\n",
       "      <td>2009</td>\n",
       "      <td>['53e99fc9b7602d97028a657e', '53e9af19b7602d97...</td>\n",
       "      <td>[3104, 2500]</td>\n",
       "    </tr>\n",
       "  </tbody>\n",
       "</table>\n",
       "</div>"
      ],
      "text/plain": [
       "                         id  year  \\\n",
       "0  53e99784b7602d9701f3e13e  2011   \n",
       "1  53e99784b7602d9701f3e4f2  2002   \n",
       "2  53e9978db7602d9701f4f415  2005   \n",
       "3  53e99792b7602d9701f56a86  2004   \n",
       "4  53e99792b7602d9701f5b087  2008   \n",
       "5  53e99792b7602d9701f5b091  2004   \n",
       "6  53e99792b7602d9701f5b09f  2009   \n",
       "7  53e99792b7602d9701f5b0c0  2004   \n",
       "8  53e99792b7602d9701f5b0c9  2006   \n",
       "9  53e99792b7602d9701f5b10c  2009   \n",
       "\n",
       "                                         refereneces  \\\n",
       "0  ['53e99b4ab7602d97023ea8fd', '53e997f8b7602d97...   \n",
       "1  ['53e9a611b7602d9702f42159', '53e9b316b7602d97...   \n",
       "2  ['53e9aa41b7602d97033af1b3', '53e9b1b0b7602d97...   \n",
       "3  ['53e9abbeb7602d970356d932', '53e9ad6cb7602d97...   \n",
       "4  ['53e99f9bb7602d970287329d', '53e9abfdb7602d97...   \n",
       "5  ['53e997fcb7602d97020091fa', '53e9adbdb7602d97...   \n",
       "6  ['53e9a95db7602d97032b676d', '53e99b71b7602d97...   \n",
       "7  ['53e99f9bb7602d970286e53d', '53e9a011b7602d97...   \n",
       "8  ['53e9a90db7602d970325f655', '53e99e78b7602d97...   \n",
       "9  ['53e99fc9b7602d97028a657e', '53e9af19b7602d97...   \n",
       "\n",
       "                                     subjects  \n",
       "0                          [1308, 1312, 1307]  \n",
       "1                    [2716, 1311, 1313, 1312]  \n",
       "2                                      [1300]  \n",
       "3                                      [2738]  \n",
       "4  [2503, 2506, 2505, 2508, 2504, 1600, 1503]  \n",
       "5                                      [2712]  \n",
       "6              [2102, 1500, 2103, 3100, 1600]  \n",
       "7                          [2732, 2739, 2737]  \n",
       "8                                      [2746]  \n",
       "9                                [3104, 2500]  "
      ]
     },
     "execution_count": 18,
     "metadata": {},
     "output_type": "execute_result"
    }
   ],
   "source": [
    "reference = pd.read_csv('paper_info.csv')\n",
    "reference.head(10)"
   ]
  },
  {
   "cell_type": "code",
   "execution_count": 17,
   "metadata": {},
   "outputs": [
    {
     "data": {
      "text/plain": [
       "id                                      53e9978db7602d9701f4f415\n",
       "year                                                        2005\n",
       "refereneces    ['53e9aa41b7602d97033af1b3', '53e9b1b0b7602d97...\n",
       "subjects                                                  [1300]\n",
       "Name: 2, dtype: object"
      ]
     },
     "execution_count": 17,
     "metadata": {},
     "output_type": "execute_result"
    }
   ],
   "source": [
    "reference.iloc[2,:]"
   ]
  },
  {
   "cell_type": "code",
   "execution_count": 19,
   "metadata": {},
   "outputs": [
    {
     "data": {
      "text/plain": [
       "id             0\n",
       "year           0\n",
       "refereneces    0\n",
       "subjects       0\n",
       "dtype: int64"
      ]
     },
     "execution_count": 19,
     "metadata": {},
     "output_type": "execute_result"
    }
   ],
   "source": [
    "reference.isnull().sum()"
   ]
  },
  {
   "cell_type": "code",
   "execution_count": 20,
   "metadata": {},
   "outputs": [
    {
     "data": {
      "text/plain": [
       "2013    242323\n",
       "2014    234254\n",
       "2012    204966\n",
       "2011    198143\n",
       "2008    190612\n",
       "2007    185136\n",
       "2006    173425\n",
       "2009    171783\n",
       "2010    170176\n",
       "2005    154472\n",
       "2004    134476\n",
       "2003    117503\n",
       "2002    106088\n",
       "2015     95422\n",
       "2001     89239\n",
       "2000     84805\n",
       "2016         4\n",
       "Name: year, dtype: int64"
      ]
     },
     "execution_count": 20,
     "metadata": {},
     "output_type": "execute_result"
    }
   ],
   "source": [
    "reference['year'].value_counts()"
   ]
  },
  {
   "cell_type": "code",
   "execution_count": 21,
   "metadata": {},
   "outputs": [
    {
     "data": {
      "text/plain": [
       "(2552827, 4)"
      ]
     },
     "execution_count": 21,
     "metadata": {},
     "output_type": "execute_result"
    }
   ],
   "source": [
    "reference.shape"
   ]
  },
  {
   "cell_type": "code",
   "execution_count": 28,
   "metadata": {},
   "outputs": [
    {
     "data": {
      "text/plain": [
       "id             object\n",
       "year            int64\n",
       "refereneces    object\n",
       "subjects       object\n",
       "dtype: object"
      ]
     },
     "execution_count": 28,
     "metadata": {},
     "output_type": "execute_result"
    }
   ],
   "source": [
    "reference.dtypes"
   ]
  },
  {
   "cell_type": "code",
   "execution_count": 52,
   "metadata": {
    "scrolled": true
   },
   "outputs": [
    {
     "data": {
      "text/plain": [
       "['53e99b4ab7602d97023ea8fd',\n",
       " '53e997f8b7602d9701ffea5d',\n",
       " '53e9aff4b7602d9703a4bbcd',\n",
       " '53e99a43b7602d97022a19e9',\n",
       " '53e9a789b7602d97030c3df9',\n",
       " '53e9b54fb7602d9704085d67',\n",
       " '56d8242adabfae2eeed0f300',\n",
       " '53e99e62b7602d9702729740',\n",
       " '55a3d232612ca6486879b4fe',\n",
       " '53e9bd81b7602d9704a23f4c',\n",
       " '53e9b775b7602d970431a37c',\n",
       " '53e9bbb5b7602d97048004a5',\n",
       " '53e9a3b9b7602d9702cc8299',\n",
       " '53e9a757b7602d970309091e',\n",
       " '53e9b850b7602d97044127d0',\n",
       " '56d9292adabfae2eeecdce79',\n",
       " '53e9a37ab7602d9702c8622e',\n",
       " '55a3ba48c91b587b0960936f',\n",
       " '53e9ba05b7602d97046046f6',\n",
       " '53e99d73b7602d970262b422',\n",
       " '53e9bc4eb7602d97048c2d96',\n",
       " '53e9ba3fb7602d970464d39d',\n",
       " '55a34f99612ca6486868b720',\n",
       " '53e9a4cfb7602d9702df183b',\n",
       " '56d9106adabfae2eee37df11',\n",
       " '53e9b587b7602d97040c8808',\n",
       " '53e9baa0b7602d97046cba95',\n",
       " '53e999a5b7602d97021e85ac',\n",
       " '55a3a273612ca6486873e655',\n",
       " '53e9b0f5b7602d9703b719f2',\n",
       " '53e9b4e9b7602d9704014652',\n",
       " '53e997f8b7602d9701ffea75',\n",
       " '53e9a3e7b7602d9702cfc56e',\n",
       " '53e9b070b7602d9703ada007',\n",
       " '53e9b63bb7602d970419830d',\n",
       " '53e99cf5b7602d97025abef2',\n",
       " '53e99f3ab7602d9702808e80',\n",
       " '55a5e55965cead59c82eb739',\n",
       " '55a485bb2401032899725b80',\n",
       " '53e99a48b7602d97022a7355',\n",
       " '53e9b621b7602d970417b97a',\n",
       " '53e99984b7602d97021c6e4f',\n",
       " '53e9ae0bb7602d9703814cac',\n",
       " '56d82095dabfae2eeeb98d7b',\n",
       " '53e9a584b7602d9702eac058',\n",
       " '53e9a8ccb7602d9703219eb3',\n",
       " '53e99eeeb7602d97027bad18',\n",
       " '53e99b21b7602d97023b820c',\n",
       " '53e9ae6fb7602d970388d1f0',\n",
       " '56d8fe08dabfae2eeec50589',\n",
       " '53e9b1a3b7602d9703c2dcbf']"
      ]
     },
     "execution_count": 52,
     "metadata": {},
     "output_type": "execute_result"
    }
   ],
   "source": [
    "words = reference.loc[0,'refereneces']\n",
    "words_split = words.split(',')\n",
    "#words_split[0] = words_split[0][1:]\n",
    "#words_split[-1] = words_split[-1][:-1]\n",
    "\n",
    "for i in range(len(words_split)):\n",
    "    words_split[i] = words_split[i].strip(\" '[]\")\n",
    "    \n",
    "words_split"
   ]
  },
  {
   "cell_type": "code",
   "execution_count": 54,
   "metadata": {},
   "outputs": [
    {
     "data": {
      "text/plain": [
       "str"
      ]
     },
     "execution_count": 54,
     "metadata": {},
     "output_type": "execute_result"
    }
   ],
   "source": [
    "type(reference.loc[0,'subjects'])"
   ]
  },
  {
   "cell_type": "code",
   "execution_count": null,
   "metadata": {},
   "outputs": [],
   "source": []
  },
  {
   "cell_type": "code",
   "execution_count": 10,
   "metadata": {
    "scrolled": true
   },
   "outputs": [
    {
     "data": {
      "text/html": [
       "<div>\n",
       "<style scoped>\n",
       "    .dataframe tbody tr th:only-of-type {\n",
       "        vertical-align: middle;\n",
       "    }\n",
       "\n",
       "    .dataframe tbody tr th {\n",
       "        vertical-align: top;\n",
       "    }\n",
       "\n",
       "    .dataframe thead th {\n",
       "        text-align: right;\n",
       "    }\n",
       "</style>\n",
       "<table border=\"1\" class=\"dataframe\">\n",
       "  <thead>\n",
       "    <tr style=\"text-align: right;\">\n",
       "      <th></th>\n",
       "      <th>id</th>\n",
       "      <th>paper_subject</th>\n",
       "    </tr>\n",
       "  </thead>\n",
       "  <tbody>\n",
       "    <tr>\n",
       "      <th>4</th>\n",
       "      <td>53e99792b7602d9701f5b087</td>\n",
       "      <td>NaN</td>\n",
       "    </tr>\n",
       "    <tr>\n",
       "      <th>6</th>\n",
       "      <td>53e99792b7602d9701f5b09f</td>\n",
       "      <td>NaN</td>\n",
       "    </tr>\n",
       "    <tr>\n",
       "      <th>12</th>\n",
       "      <td>53e99792b7602d9701f5b135</td>\n",
       "      <td>NaN</td>\n",
       "    </tr>\n",
       "    <tr>\n",
       "      <th>15</th>\n",
       "      <td>53e99792b7602d9701f5b213</td>\n",
       "      <td>NaN</td>\n",
       "    </tr>\n",
       "    <tr>\n",
       "      <th>23</th>\n",
       "      <td>53e99792b7602d9701f5b33a</td>\n",
       "      <td>NaN</td>\n",
       "    </tr>\n",
       "    <tr>\n",
       "      <th>26</th>\n",
       "      <td>53e99792b7602d9701f5b3ad</td>\n",
       "      <td>NaN</td>\n",
       "    </tr>\n",
       "    <tr>\n",
       "      <th>27</th>\n",
       "      <td>53e99792b7602d9701f5b3b6</td>\n",
       "      <td>NaN</td>\n",
       "    </tr>\n",
       "    <tr>\n",
       "      <th>35</th>\n",
       "      <td>53e99792b7602d9701f5b456</td>\n",
       "      <td>NaN</td>\n",
       "    </tr>\n",
       "    <tr>\n",
       "      <th>36</th>\n",
       "      <td>53e99796b7602d9701f5b723</td>\n",
       "      <td>NaN</td>\n",
       "    </tr>\n",
       "    <tr>\n",
       "      <th>38</th>\n",
       "      <td>53e99796b7602d9701f5bbb5</td>\n",
       "      <td>NaN</td>\n",
       "    </tr>\n",
       "    <tr>\n",
       "      <th>40</th>\n",
       "      <td>53e99796b7602d9701f5bd67</td>\n",
       "      <td>NaN</td>\n",
       "    </tr>\n",
       "    <tr>\n",
       "      <th>43</th>\n",
       "      <td>53e99796b7602d9701f5bf4a</td>\n",
       "      <td>NaN</td>\n",
       "    </tr>\n",
       "    <tr>\n",
       "      <th>48</th>\n",
       "      <td>53e99796b7602d9701f5c113</td>\n",
       "      <td>NaN</td>\n",
       "    </tr>\n",
       "    <tr>\n",
       "      <th>50</th>\n",
       "      <td>53e99796b7602d9701f5c144</td>\n",
       "      <td>NaN</td>\n",
       "    </tr>\n",
       "    <tr>\n",
       "      <th>59</th>\n",
       "      <td>53e99796b7602d9701f5c22f</td>\n",
       "      <td>NaN</td>\n",
       "    </tr>\n",
       "    <tr>\n",
       "      <th>63</th>\n",
       "      <td>53e99796b7602d9701f5c54d</td>\n",
       "      <td>NaN</td>\n",
       "    </tr>\n",
       "    <tr>\n",
       "      <th>64</th>\n",
       "      <td>53e99796b7602d9701f5c805</td>\n",
       "      <td>NaN</td>\n",
       "    </tr>\n",
       "    <tr>\n",
       "      <th>72</th>\n",
       "      <td>53e99796b7602d9701f5cf29</td>\n",
       "      <td>NaN</td>\n",
       "    </tr>\n",
       "    <tr>\n",
       "      <th>79</th>\n",
       "      <td>53e99796b7602d9701f5d756</td>\n",
       "      <td>NaN</td>\n",
       "    </tr>\n",
       "    <tr>\n",
       "      <th>81</th>\n",
       "      <td>53e99796b7602d9701f5d979</td>\n",
       "      <td>NaN</td>\n",
       "    </tr>\n",
       "    <tr>\n",
       "      <th>84</th>\n",
       "      <td>53e99796b7602d9701f5df53</td>\n",
       "      <td>NaN</td>\n",
       "    </tr>\n",
       "    <tr>\n",
       "      <th>85</th>\n",
       "      <td>53e99796b7602d9701f5e172</td>\n",
       "      <td>NaN</td>\n",
       "    </tr>\n",
       "    <tr>\n",
       "      <th>88</th>\n",
       "      <td>53e99796b7602d9701f5e245</td>\n",
       "      <td>NaN</td>\n",
       "    </tr>\n",
       "    <tr>\n",
       "      <th>90</th>\n",
       "      <td>53e99796b7602d9701f5e6fd</td>\n",
       "      <td>NaN</td>\n",
       "    </tr>\n",
       "    <tr>\n",
       "      <th>101</th>\n",
       "      <td>53e99796b7602d9701f5fb24</td>\n",
       "      <td>NaN</td>\n",
       "    </tr>\n",
       "    <tr>\n",
       "      <th>107</th>\n",
       "      <td>53e99796b7602d9701f60dde</td>\n",
       "      <td>NaN</td>\n",
       "    </tr>\n",
       "    <tr>\n",
       "      <th>108</th>\n",
       "      <td>53e99796b7602d9701f6101c</td>\n",
       "      <td>NaN</td>\n",
       "    </tr>\n",
       "    <tr>\n",
       "      <th>112</th>\n",
       "      <td>53e99796b7602d9701f613ec</td>\n",
       "      <td>NaN</td>\n",
       "    </tr>\n",
       "    <tr>\n",
       "      <th>114</th>\n",
       "      <td>53e99796b7602d9701f61bb3</td>\n",
       "      <td>NaN</td>\n",
       "    </tr>\n",
       "    <tr>\n",
       "      <th>122</th>\n",
       "      <td>53e99796b7602d9701f62abc</td>\n",
       "      <td>NaN</td>\n",
       "    </tr>\n",
       "    <tr>\n",
       "      <th>...</th>\n",
       "      <td>...</td>\n",
       "      <td>...</td>\n",
       "    </tr>\n",
       "    <tr>\n",
       "      <th>2552620</th>\n",
       "      <td>53e9a089b7602d970296e138</td>\n",
       "      <td>NaN</td>\n",
       "    </tr>\n",
       "    <tr>\n",
       "      <th>2552622</th>\n",
       "      <td>53e9a089b7602d970296e196</td>\n",
       "      <td>NaN</td>\n",
       "    </tr>\n",
       "    <tr>\n",
       "      <th>2552623</th>\n",
       "      <td>53e9a089b7602d970296e1ca</td>\n",
       "      <td>NaN</td>\n",
       "    </tr>\n",
       "    <tr>\n",
       "      <th>2552625</th>\n",
       "      <td>53e9a089b7602d970296e1e9</td>\n",
       "      <td>NaN</td>\n",
       "    </tr>\n",
       "    <tr>\n",
       "      <th>2552627</th>\n",
       "      <td>53e9a089b7602d970296e207</td>\n",
       "      <td>NaN</td>\n",
       "    </tr>\n",
       "    <tr>\n",
       "      <th>2552636</th>\n",
       "      <td>53e9a089b7602d970296e33b</td>\n",
       "      <td>NaN</td>\n",
       "    </tr>\n",
       "    <tr>\n",
       "      <th>2552639</th>\n",
       "      <td>53e9a089b7602d970296e356</td>\n",
       "      <td>NaN</td>\n",
       "    </tr>\n",
       "    <tr>\n",
       "      <th>2552645</th>\n",
       "      <td>53e9a089b7602d970296e42c</td>\n",
       "      <td>NaN</td>\n",
       "    </tr>\n",
       "    <tr>\n",
       "      <th>2552652</th>\n",
       "      <td>53e9a089b7602d970296e530</td>\n",
       "      <td>NaN</td>\n",
       "    </tr>\n",
       "    <tr>\n",
       "      <th>2552662</th>\n",
       "      <td>53e9a089b7602d970296e65e</td>\n",
       "      <td>NaN</td>\n",
       "    </tr>\n",
       "    <tr>\n",
       "      <th>2552664</th>\n",
       "      <td>53e9a089b7602d970296e66a</td>\n",
       "      <td>NaN</td>\n",
       "    </tr>\n",
       "    <tr>\n",
       "      <th>2552670</th>\n",
       "      <td>53e9a089b7602d970296e6e1</td>\n",
       "      <td>NaN</td>\n",
       "    </tr>\n",
       "    <tr>\n",
       "      <th>2552681</th>\n",
       "      <td>53e9a089b7602d970296e84c</td>\n",
       "      <td>NaN</td>\n",
       "    </tr>\n",
       "    <tr>\n",
       "      <th>2552705</th>\n",
       "      <td>53e9a089b7602d970296eb39</td>\n",
       "      <td>NaN</td>\n",
       "    </tr>\n",
       "    <tr>\n",
       "      <th>2552716</th>\n",
       "      <td>53e9a089b7602d970296ec6a</td>\n",
       "      <td>NaN</td>\n",
       "    </tr>\n",
       "    <tr>\n",
       "      <th>2552717</th>\n",
       "      <td>53e9a089b7602d970296ec83</td>\n",
       "      <td>NaN</td>\n",
       "    </tr>\n",
       "    <tr>\n",
       "      <th>2552721</th>\n",
       "      <td>53e9a089b7602d970296ecc3</td>\n",
       "      <td>NaN</td>\n",
       "    </tr>\n",
       "    <tr>\n",
       "      <th>2552724</th>\n",
       "      <td>53e9a089b7602d970296ed09</td>\n",
       "      <td>NaN</td>\n",
       "    </tr>\n",
       "    <tr>\n",
       "      <th>2552727</th>\n",
       "      <td>53e9a089b7602d970296ed28</td>\n",
       "      <td>NaN</td>\n",
       "    </tr>\n",
       "    <tr>\n",
       "      <th>2552729</th>\n",
       "      <td>53e9a089b7602d970296edce</td>\n",
       "      <td>NaN</td>\n",
       "    </tr>\n",
       "    <tr>\n",
       "      <th>2552731</th>\n",
       "      <td>53e9a089b7602d970296ede5</td>\n",
       "      <td>NaN</td>\n",
       "    </tr>\n",
       "    <tr>\n",
       "      <th>2552759</th>\n",
       "      <td>53e9a089b7602d970296f10a</td>\n",
       "      <td>NaN</td>\n",
       "    </tr>\n",
       "    <tr>\n",
       "      <th>2552776</th>\n",
       "      <td>53e9a089b7602d970296f2f5</td>\n",
       "      <td>NaN</td>\n",
       "    </tr>\n",
       "    <tr>\n",
       "      <th>2552781</th>\n",
       "      <td>53e9a089b7602d970296f3da</td>\n",
       "      <td>NaN</td>\n",
       "    </tr>\n",
       "    <tr>\n",
       "      <th>2552786</th>\n",
       "      <td>53e9a089b7602d970296f43c</td>\n",
       "      <td>NaN</td>\n",
       "    </tr>\n",
       "    <tr>\n",
       "      <th>2552788</th>\n",
       "      <td>53e9a089b7602d970296f450</td>\n",
       "      <td>NaN</td>\n",
       "    </tr>\n",
       "    <tr>\n",
       "      <th>2552791</th>\n",
       "      <td>53e9a089b7602d970296f488</td>\n",
       "      <td>NaN</td>\n",
       "    </tr>\n",
       "    <tr>\n",
       "      <th>2552795</th>\n",
       "      <td>53e9a089b7602d970296f52a</td>\n",
       "      <td>NaN</td>\n",
       "    </tr>\n",
       "    <tr>\n",
       "      <th>2552812</th>\n",
       "      <td>53e9a089b7602d970296f6f9</td>\n",
       "      <td>NaN</td>\n",
       "    </tr>\n",
       "    <tr>\n",
       "      <th>2552825</th>\n",
       "      <td>53e9a089b7602d970296f892</td>\n",
       "      <td>NaN</td>\n",
       "    </tr>\n",
       "  </tbody>\n",
       "</table>\n",
       "<p>346615 rows × 2 columns</p>\n",
       "</div>"
      ],
      "text/plain": [
       "                               id  paper_subject\n",
       "4        53e99792b7602d9701f5b087            NaN\n",
       "6        53e99792b7602d9701f5b09f            NaN\n",
       "12       53e99792b7602d9701f5b135            NaN\n",
       "15       53e99792b7602d9701f5b213            NaN\n",
       "23       53e99792b7602d9701f5b33a            NaN\n",
       "26       53e99792b7602d9701f5b3ad            NaN\n",
       "27       53e99792b7602d9701f5b3b6            NaN\n",
       "35       53e99792b7602d9701f5b456            NaN\n",
       "36       53e99796b7602d9701f5b723            NaN\n",
       "38       53e99796b7602d9701f5bbb5            NaN\n",
       "40       53e99796b7602d9701f5bd67            NaN\n",
       "43       53e99796b7602d9701f5bf4a            NaN\n",
       "48       53e99796b7602d9701f5c113            NaN\n",
       "50       53e99796b7602d9701f5c144            NaN\n",
       "59       53e99796b7602d9701f5c22f            NaN\n",
       "63       53e99796b7602d9701f5c54d            NaN\n",
       "64       53e99796b7602d9701f5c805            NaN\n",
       "72       53e99796b7602d9701f5cf29            NaN\n",
       "79       53e99796b7602d9701f5d756            NaN\n",
       "81       53e99796b7602d9701f5d979            NaN\n",
       "84       53e99796b7602d9701f5df53            NaN\n",
       "85       53e99796b7602d9701f5e172            NaN\n",
       "88       53e99796b7602d9701f5e245            NaN\n",
       "90       53e99796b7602d9701f5e6fd            NaN\n",
       "101      53e99796b7602d9701f5fb24            NaN\n",
       "107      53e99796b7602d9701f60dde            NaN\n",
       "108      53e99796b7602d9701f6101c            NaN\n",
       "112      53e99796b7602d9701f613ec            NaN\n",
       "114      53e99796b7602d9701f61bb3            NaN\n",
       "122      53e99796b7602d9701f62abc            NaN\n",
       "...                           ...            ...\n",
       "2552620  53e9a089b7602d970296e138            NaN\n",
       "2552622  53e9a089b7602d970296e196            NaN\n",
       "2552623  53e9a089b7602d970296e1ca            NaN\n",
       "2552625  53e9a089b7602d970296e1e9            NaN\n",
       "2552627  53e9a089b7602d970296e207            NaN\n",
       "2552636  53e9a089b7602d970296e33b            NaN\n",
       "2552639  53e9a089b7602d970296e356            NaN\n",
       "2552645  53e9a089b7602d970296e42c            NaN\n",
       "2552652  53e9a089b7602d970296e530            NaN\n",
       "2552662  53e9a089b7602d970296e65e            NaN\n",
       "2552664  53e9a089b7602d970296e66a            NaN\n",
       "2552670  53e9a089b7602d970296e6e1            NaN\n",
       "2552681  53e9a089b7602d970296e84c            NaN\n",
       "2552705  53e9a089b7602d970296eb39            NaN\n",
       "2552716  53e9a089b7602d970296ec6a            NaN\n",
       "2552717  53e9a089b7602d970296ec83            NaN\n",
       "2552721  53e9a089b7602d970296ecc3            NaN\n",
       "2552724  53e9a089b7602d970296ed09            NaN\n",
       "2552727  53e9a089b7602d970296ed28            NaN\n",
       "2552729  53e9a089b7602d970296edce            NaN\n",
       "2552731  53e9a089b7602d970296ede5            NaN\n",
       "2552759  53e9a089b7602d970296f10a            NaN\n",
       "2552776  53e9a089b7602d970296f2f5            NaN\n",
       "2552781  53e9a089b7602d970296f3da            NaN\n",
       "2552786  53e9a089b7602d970296f43c            NaN\n",
       "2552788  53e9a089b7602d970296f450            NaN\n",
       "2552791  53e9a089b7602d970296f488            NaN\n",
       "2552795  53e9a089b7602d970296f52a            NaN\n",
       "2552812  53e9a089b7602d970296f6f9            NaN\n",
       "2552825  53e9a089b7602d970296f892            NaN\n",
       "\n",
       "[346615 rows x 2 columns]"
      ]
     },
     "execution_count": 10,
     "metadata": {},
     "output_type": "execute_result"
    }
   ],
   "source": [
    "null_data = subject[subject.isnull().any(axis=1)]\n",
    "null_data"
   ]
  },
  {
   "cell_type": "code",
   "execution_count": 21,
   "metadata": {},
   "outputs": [
    {
     "data": {
      "text/plain": [
       "[4, 6, 12, 15, 23, 26, 27, 35, 36, 38]"
      ]
     },
     "execution_count": 21,
     "metadata": {},
     "output_type": "execute_result"
    }
   ],
   "source": [
    "null_data_index = null_data.index.values.tolist()\n",
    "null_data_index[:10]"
   ]
  },
  {
   "cell_type": "code",
   "execution_count": 27,
   "metadata": {},
   "outputs": [
    {
     "data": {
      "text/plain": [
       "True"
      ]
     },
     "execution_count": 27,
     "metadata": {},
     "output_type": "execute_result"
    }
   ],
   "source": [
    "'53e99784b7602d9701f3e13e' in subject['id'].tolist()"
   ]
  },
  {
   "cell_type": "code",
   "execution_count": 25,
   "metadata": {},
   "outputs": [
    {
     "data": {
      "text/plain": [
       "True"
      ]
     },
     "execution_count": 25,
     "metadata": {},
     "output_type": "execute_result"
    }
   ],
   "source": [
    "'53e99784b7602d9701f3e13e' == subject.loc[0, 'id']"
   ]
  },
  {
   "cell_type": "code",
   "execution_count": 29,
   "metadata": {},
   "outputs": [
    {
     "data": {
      "text/html": [
       "<div>\n",
       "<style scoped>\n",
       "    .dataframe tbody tr th:only-of-type {\n",
       "        vertical-align: middle;\n",
       "    }\n",
       "\n",
       "    .dataframe tbody tr th {\n",
       "        vertical-align: top;\n",
       "    }\n",
       "\n",
       "    .dataframe thead th {\n",
       "        text-align: right;\n",
       "    }\n",
       "</style>\n",
       "<table border=\"1\" class=\"dataframe\">\n",
       "  <thead>\n",
       "    <tr style=\"text-align: right;\">\n",
       "      <th></th>\n",
       "      <th>id</th>\n",
       "      <th>paper_subject</th>\n",
       "    </tr>\n",
       "  </thead>\n",
       "  <tbody>\n",
       "    <tr>\n",
       "      <th>0</th>\n",
       "      <td>53e99784b7602d9701f3e13e</td>\n",
       "      <td>13.0</td>\n",
       "    </tr>\n",
       "  </tbody>\n",
       "</table>\n",
       "</div>"
      ],
      "text/plain": [
       "                         id  paper_subject\n",
       "0  53e99784b7602d9701f3e13e           13.0"
      ]
     },
     "execution_count": 29,
     "metadata": {},
     "output_type": "execute_result"
    }
   ],
   "source": [
    "subject[subject['id'] == '53e99784b7602d9701f3e13e']"
   ]
  },
  {
   "cell_type": "code",
   "execution_count": 30,
   "metadata": {},
   "outputs": [
    {
     "data": {
      "text/plain": [
       "id                object\n",
       "paper_subject    float64\n",
       "dtype: object"
      ]
     },
     "execution_count": 30,
     "metadata": {},
     "output_type": "execute_result"
    }
   ],
   "source": [
    "subject.dtypes"
   ]
  },
  {
   "cell_type": "code",
   "execution_count": null,
   "metadata": {},
   "outputs": [],
   "source": []
  },
  {
   "cell_type": "code",
   "execution_count": 19,
   "metadata": {},
   "outputs": [
    {
     "data": {
      "text/html": [
       "<div>\n",
       "<style scoped>\n",
       "    .dataframe tbody tr th:only-of-type {\n",
       "        vertical-align: middle;\n",
       "    }\n",
       "\n",
       "    .dataframe tbody tr th {\n",
       "        vertical-align: top;\n",
       "    }\n",
       "\n",
       "    .dataframe thead th {\n",
       "        text-align: right;\n",
       "    }\n",
       "</style>\n",
       "<table border=\"1\" class=\"dataframe\">\n",
       "  <thead>\n",
       "    <tr style=\"text-align: right;\">\n",
       "      <th></th>\n",
       "      <th>paper</th>\n",
       "      <th>reference</th>\n",
       "    </tr>\n",
       "  </thead>\n",
       "  <tbody>\n",
       "    <tr>\n",
       "      <th>0</th>\n",
       "      <td>13</td>\n",
       "      <td>16</td>\n",
       "    </tr>\n",
       "    <tr>\n",
       "      <th>1</th>\n",
       "      <td>13</td>\n",
       "      <td>16</td>\n",
       "    </tr>\n",
       "    <tr>\n",
       "      <th>2</th>\n",
       "      <td>13</td>\n",
       "      <td>17</td>\n",
       "    </tr>\n",
       "    <tr>\n",
       "      <th>3</th>\n",
       "      <td>13</td>\n",
       "      <td>18</td>\n",
       "    </tr>\n",
       "    <tr>\n",
       "      <th>4</th>\n",
       "      <td>14</td>\n",
       "      <td>17</td>\n",
       "    </tr>\n",
       "    <tr>\n",
       "      <th>5</th>\n",
       "      <td>14</td>\n",
       "      <td>19</td>\n",
       "    </tr>\n",
       "    <tr>\n",
       "      <th>6</th>\n",
       "      <td>14</td>\n",
       "      <td>20</td>\n",
       "    </tr>\n",
       "    <tr>\n",
       "      <th>7</th>\n",
       "      <td>15</td>\n",
       "      <td>20</td>\n",
       "    </tr>\n",
       "    <tr>\n",
       "      <th>8</th>\n",
       "      <td>15</td>\n",
       "      <td>17</td>\n",
       "    </tr>\n",
       "  </tbody>\n",
       "</table>\n",
       "</div>"
      ],
      "text/plain": [
       "   paper  reference\n",
       "0     13         16\n",
       "1     13         16\n",
       "2     13         17\n",
       "3     13         18\n",
       "4     14         17\n",
       "5     14         19\n",
       "6     14         20\n",
       "7     15         20\n",
       "8     15         17"
      ]
     },
     "execution_count": 19,
     "metadata": {},
     "output_type": "execute_result"
    }
   ],
   "source": [
    "import pandas as pd\n",
    "test = pd.DataFrame({'paper': [13,13,13,13, 14,14,14,15,15], 'reference': [16, 16, 17, 18, 17, 19, 20, 20, 17]})\n",
    "test"
   ]
  },
  {
   "cell_type": "code",
   "execution_count": 20,
   "metadata": {},
   "outputs": [
    {
     "data": {
      "text/plain": [
       "{17: 3, 20: 2, 16: 2, 19: 1, 18: 1}"
      ]
     },
     "execution_count": 20,
     "metadata": {},
     "output_type": "execute_result"
    }
   ],
   "source": [
    "N = 1\n",
    "D = dict(test['reference'].value_counts())\n",
    "D"
   ]
  },
  {
   "cell_type": "code",
   "execution_count": 21,
   "metadata": {},
   "outputs": [
    {
     "data": {
      "text/html": [
       "<div>\n",
       "<style scoped>\n",
       "    .dataframe tbody tr th:only-of-type {\n",
       "        vertical-align: middle;\n",
       "    }\n",
       "\n",
       "    .dataframe tbody tr th {\n",
       "        vertical-align: top;\n",
       "    }\n",
       "\n",
       "    .dataframe thead th {\n",
       "        text-align: right;\n",
       "    }\n",
       "</style>\n",
       "<table border=\"1\" class=\"dataframe\">\n",
       "  <thead>\n",
       "    <tr style=\"text-align: right;\">\n",
       "      <th></th>\n",
       "      <th>16</th>\n",
       "      <th>17</th>\n",
       "      <th>18</th>\n",
       "      <th>19</th>\n",
       "      <th>20</th>\n",
       "    </tr>\n",
       "    <tr>\n",
       "      <th>paper</th>\n",
       "      <th></th>\n",
       "      <th></th>\n",
       "      <th></th>\n",
       "      <th></th>\n",
       "      <th></th>\n",
       "    </tr>\n",
       "  </thead>\n",
       "  <tbody>\n",
       "    <tr>\n",
       "      <th>13</th>\n",
       "      <td>2</td>\n",
       "      <td>1</td>\n",
       "      <td>1</td>\n",
       "      <td>0</td>\n",
       "      <td>0</td>\n",
       "    </tr>\n",
       "    <tr>\n",
       "      <th>14</th>\n",
       "      <td>0</td>\n",
       "      <td>1</td>\n",
       "      <td>0</td>\n",
       "      <td>1</td>\n",
       "      <td>1</td>\n",
       "    </tr>\n",
       "    <tr>\n",
       "      <th>15</th>\n",
       "      <td>0</td>\n",
       "      <td>1</td>\n",
       "      <td>0</td>\n",
       "      <td>0</td>\n",
       "      <td>1</td>\n",
       "    </tr>\n",
       "  </tbody>\n",
       "</table>\n",
       "</div>"
      ],
      "text/plain": [
       "       16  17  18  19  20\n",
       "paper                    \n",
       "13      2   1   1   0   0\n",
       "14      0   1   0   1   1\n",
       "15      0   1   0   0   1"
      ]
     },
     "execution_count": 21,
     "metadata": {},
     "output_type": "execute_result"
    }
   ],
   "source": [
    "matrix = pd.get_dummies(test['reference']).groupby(test['paper']).apply(sum)\n",
    "matrix"
   ]
  },
  {
   "cell_type": "code",
   "execution_count": 24,
   "metadata": {},
   "outputs": [
    {
     "data": {
      "text/plain": [
       "16    2\n",
       "17    1\n",
       "18    1\n",
       "19    0\n",
       "20    0\n",
       "Name: 13, dtype: int64"
      ]
     },
     "execution_count": 24,
     "metadata": {},
     "output_type": "execute_result"
    }
   ],
   "source": [
    "matrix.iloc[0,:]"
   ]
  },
  {
   "cell_type": "code",
   "execution_count": 33,
   "metadata": {},
   "outputs": [
    {
     "data": {
      "text/html": [
       "<div>\n",
       "<style scoped>\n",
       "    .dataframe tbody tr th:only-of-type {\n",
       "        vertical-align: middle;\n",
       "    }\n",
       "\n",
       "    .dataframe tbody tr th {\n",
       "        vertical-align: top;\n",
       "    }\n",
       "\n",
       "    .dataframe thead th {\n",
       "        text-align: right;\n",
       "    }\n",
       "</style>\n",
       "<table border=\"1\" class=\"dataframe\">\n",
       "  <thead>\n",
       "    <tr style=\"text-align: right;\">\n",
       "      <th></th>\n",
       "      <th>16</th>\n",
       "      <th>17</th>\n",
       "      <th>18</th>\n",
       "      <th>19</th>\n",
       "      <th>20</th>\n",
       "    </tr>\n",
       "    <tr>\n",
       "      <th>paper</th>\n",
       "      <th></th>\n",
       "      <th></th>\n",
       "      <th></th>\n",
       "      <th></th>\n",
       "      <th></th>\n",
       "    </tr>\n",
       "  </thead>\n",
       "  <tbody>\n",
       "    <tr>\n",
       "      <th>13</th>\n",
       "      <td>8</td>\n",
       "      <td>4</td>\n",
       "      <td>4</td>\n",
       "      <td>0</td>\n",
       "      <td>0</td>\n",
       "    </tr>\n",
       "    <tr>\n",
       "      <th>14</th>\n",
       "      <td>0</td>\n",
       "      <td>1</td>\n",
       "      <td>0</td>\n",
       "      <td>1</td>\n",
       "      <td>1</td>\n",
       "    </tr>\n",
       "    <tr>\n",
       "      <th>15</th>\n",
       "      <td>0</td>\n",
       "      <td>1</td>\n",
       "      <td>0</td>\n",
       "      <td>0</td>\n",
       "      <td>1</td>\n",
       "    </tr>\n",
       "  </tbody>\n",
       "</table>\n",
       "</div>"
      ],
      "text/plain": [
       "       16  17  18  19  20\n",
       "paper                    \n",
       "13      8   4   4   0   0\n",
       "14      0   1   0   1   1\n",
       "15      0   1   0   0   1"
      ]
     },
     "execution_count": 33,
     "metadata": {},
     "output_type": "execute_result"
    }
   ],
   "source": [
    "matrix.loc[13] = matrix.loc[13] * 2\n",
    "matrix"
   ]
  },
  {
   "cell_type": "code",
   "execution_count": 36,
   "metadata": {},
   "outputs": [
    {
     "data": {
      "text/plain": [
       "<matplotlib.axes._subplots.AxesSubplot at 0x1a1a732c18>"
      ]
     },
     "execution_count": 36,
     "metadata": {},
     "output_type": "execute_result"
    },
    {
     "data": {
      "image/png": "[encoded data removed]",
      "text/plain": [
       "<Figure size 432x288 with 2 Axes>"
      ]
     },
     "metadata": {},
     "output_type": "display_data"
    }
   ],
   "source": [
    "%matplotlib inline\n",
    "import seaborn as sns\n",
    "sns.heatmap(matrix)"
   ]
  },
  {
   "cell_type": "code",
   "execution_count": null,
   "metadata": {},
   "outputs": [],
   "source": []
  },
  {
   "cell_type": "code",
   "execution_count": 5,
   "metadata": {},
   "outputs": [
    {
     "data": {
      "text/html": [
       "<div>\n",
       "<style scoped>\n",
       "    .dataframe tbody tr th:only-of-type {\n",
       "        vertical-align: middle;\n",
       "    }\n",
       "\n",
       "    .dataframe tbody tr th {\n",
       "        vertical-align: top;\n",
       "    }\n",
       "\n",
       "    .dataframe thead th {\n",
       "        text-align: right;\n",
       "    }\n",
       "</style>\n",
       "<table border=\"1\" class=\"dataframe\">\n",
       "  <thead>\n",
       "    <tr style=\"text-align: right;\">\n",
       "      <th></th>\n",
       "      <th>0</th>\n",
       "      <th>1</th>\n",
       "      <th>2</th>\n",
       "      <th>3</th>\n",
       "      <th>4</th>\n",
       "    </tr>\n",
       "  </thead>\n",
       "  <tbody>\n",
       "    <tr>\n",
       "      <th>0</th>\n",
       "      <td>0.5</td>\n",
       "      <td>0.250000</td>\n",
       "      <td>0.25</td>\n",
       "      <td>0.000000</td>\n",
       "      <td>0.000000</td>\n",
       "    </tr>\n",
       "    <tr>\n",
       "      <th>1</th>\n",
       "      <td>0.0</td>\n",
       "      <td>0.333333</td>\n",
       "      <td>0.00</td>\n",
       "      <td>0.333333</td>\n",
       "      <td>0.333333</td>\n",
       "    </tr>\n",
       "    <tr>\n",
       "      <th>2</th>\n",
       "      <td>0.0</td>\n",
       "      <td>0.500000</td>\n",
       "      <td>0.00</td>\n",
       "      <td>0.000000</td>\n",
       "      <td>0.500000</td>\n",
       "    </tr>\n",
       "  </tbody>\n",
       "</table>\n",
       "</div>"
      ],
      "text/plain": [
       "     0         1     2         3         4\n",
       "0  0.5  0.250000  0.25  0.000000  0.000000\n",
       "1  0.0  0.333333  0.00  0.333333  0.333333\n",
       "2  0.0  0.500000  0.00  0.000000  0.500000"
      ]
     },
     "execution_count": 5,
     "metadata": {},
     "output_type": "execute_result"
    }
   ],
   "source": [
    "###### TEST modified occurrence matrix ######\n",
    "import pandas as pd\n",
    "test = pd.DataFrame({'paper': [13,13,13,13, 14,14,14,15,15], 'reference': [16, 16, 17, 18, 17, 19, 20, 20, 17]})\n",
    "matrix = pd.get_dummies(test['reference']).groupby(test['paper']).apply(sum)\n",
    "from sklearn.preprocessing import normalize\n",
    "matrix_modify = pd.DataFrame( normalize(matrix, axis = 1, norm = 'l1') )\n",
    "matrix_modify"
   ]
  },
  {
   "cell_type": "code",
   "execution_count": 4,
   "metadata": {},
   "outputs": [
    {
     "data": {
      "text/html": [
       "<div>\n",
       "<style scoped>\n",
       "    .dataframe tbody tr th:only-of-type {\n",
       "        vertical-align: middle;\n",
       "    }\n",
       "\n",
       "    .dataframe tbody tr th {\n",
       "        vertical-align: top;\n",
       "    }\n",
       "\n",
       "    .dataframe thead th {\n",
       "        text-align: right;\n",
       "    }\n",
       "</style>\n",
       "<table border=\"1\" class=\"dataframe\">\n",
       "  <thead>\n",
       "    <tr style=\"text-align: right;\">\n",
       "      <th></th>\n",
       "      <th>16</th>\n",
       "      <th>17</th>\n",
       "      <th>18</th>\n",
       "      <th>19</th>\n",
       "      <th>20</th>\n",
       "    </tr>\n",
       "    <tr>\n",
       "      <th>paper</th>\n",
       "      <th></th>\n",
       "      <th></th>\n",
       "      <th></th>\n",
       "      <th></th>\n",
       "      <th></th>\n",
       "    </tr>\n",
       "  </thead>\n",
       "  <tbody>\n",
       "    <tr>\n",
       "      <th>13</th>\n",
       "      <td>2</td>\n",
       "      <td>1</td>\n",
       "      <td>1</td>\n",
       "      <td>0</td>\n",
       "      <td>0</td>\n",
       "    </tr>\n",
       "    <tr>\n",
       "      <th>14</th>\n",
       "      <td>0</td>\n",
       "      <td>1</td>\n",
       "      <td>0</td>\n",
       "      <td>1</td>\n",
       "      <td>1</td>\n",
       "    </tr>\n",
       "    <tr>\n",
       "      <th>15</th>\n",
       "      <td>0</td>\n",
       "      <td>1</td>\n",
       "      <td>0</td>\n",
       "      <td>0</td>\n",
       "      <td>1</td>\n",
       "    </tr>\n",
       "  </tbody>\n",
       "</table>\n",
       "</div>"
      ],
      "text/plain": [
       "       16  17  18  19  20\n",
       "paper                    \n",
       "13      2   1   1   0   0\n",
       "14      0   1   0   1   1\n",
       "15      0   1   0   0   1"
      ]
     },
     "execution_count": 4,
     "metadata": {},
     "output_type": "execute_result"
    }
   ],
   "source": [
    "matrix"
   ]
  },
  {
   "cell_type": "code",
   "execution_count": 7,
   "metadata": {},
   "outputs": [
    {
     "data": {
      "text/plain": [
       "<matplotlib.axes._subplots.AxesSubplot at 0x1a1c19d710>"
      ]
     },
     "execution_count": 7,
     "metadata": {},
     "output_type": "execute_result"
    },
    {
     "data": {
      "image/png": "[encoded data removed]",
      "text/plain": [
       "<Figure size 432x288 with 2 Axes>"
      ]
     },
     "metadata": {},
     "output_type": "display_data"
    }
   ],
   "source": [
    "%matplotlib inline\n",
    "import seaborn as sns\n",
    "sns.heatmap(matrix_modify)"
   ]
  },
  {
   "cell_type": "code",
   "execution_count": null,
   "metadata": {},
   "outputs": [],
   "source": []
  },
  {
   "cell_type": "code",
   "execution_count": null,
   "metadata": {},
   "outputs": [],
   "source": []
  },
  {
   "cell_type": "code",
   "execution_count": null,
   "metadata": {},
   "outputs": [],
   "source": []
  }
 ],
 "metadata": {
  "kernelspec": {
   "display_name": "Python 3",
   "language": "python",
   "name": "python3"
  },
  "language_info": {
   "codemirror_mode": {
    "name": "ipython",
    "version": 3
   },
   "file_extension": ".py",
   "mimetype": "text/x-python",
   "name": "python",
   "nbconvert_exporter": "python",
   "pygments_lexer": "ipython3",
   "version": "3.6.5"
  }
 },
 "nbformat": 4,
 "nbformat_minor": 2
}
