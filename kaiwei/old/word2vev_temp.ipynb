{
 "cells": [
  {
   "cell_type": "code",
   "execution_count": 1,
   "metadata": {},
   "outputs": [
    {
     "name": "stderr",
     "output_type": "stream",
     "text": [
      "C:\\Users\\ZKW\\Anaconda3\\envs\\data-x\\lib\\site-packages\\gensim\\utils.py:1197: UserWarning: detected Windows; aliasing chunkize to chunkize_serial\n",
      "  warnings.warn(\"detected Windows; aliasing chunkize to chunkize_serial\")\n"
     ]
    }
   ],
   "source": [
    "from gensim.models import Word2Vec, KeyedVectors\n",
    "from gensim.scripts.glove2word2vec import glove2word2vec\n",
    "from gensim.test.utils import datapath\n",
    "\n",
    "import re\n",
    "import numpy as np\n",
    "import pandas as pd\n",
    "from collections import Counter\n",
    "import matplotlib.pyplot as plt\n",
    "import seaborn as sns\n",
    "import json"
   ]
  },
  {
   "cell_type": "code",
   "execution_count": 2,
   "metadata": {},
   "outputs": [],
   "source": [
    "data_dir = \"..\\\\data\\\\oag2019\\\\\"\n",
    "num = 14\n",
    "out_name = 'filtered_aminer\\\\filtered_aminer_papers_'+str(num)+'.txt'"
   ]
  },
  {
   "cell_type": "code",
   "execution_count": 5,
   "metadata": {},
   "outputs": [
    {
     "data": {
      "text/plain": [
       "1904283"
      ]
     },
     "execution_count": 5,
     "metadata": {},
     "output_type": "execute_result"
    }
   ],
   "source": [
    "# keyword embedding\n",
    "f = open(data_dir+out_name,'r',encoding = 'utf8')\n",
    "key = [json.loads(line)['keywords'] for line in f]  "
   ]
  },
  {
   "cell_type": "code",
   "execution_count": 14,
   "metadata": {},
   "outputs": [
    {
     "data": {
      "text/plain": [
       "array([3., 5., 8.])"
      ]
     },
     "execution_count": 14,
     "metadata": {},
     "output_type": "execute_result"
    }
   ],
   "source": [
    "key_len = [len(i) for i in key]\n",
    "np.percentile(key_len,[5,50,95])"
   ]
  },
  {
   "cell_type": "code",
   "execution_count": 20,
   "metadata": {},
   "outputs": [],
   "source": [
    "#link key word by '_'\n",
    "multigram = [[re.sub('\\s+','_',i) for i in words] for words in key]"
   ]
  },
  {
   "cell_type": "code",
   "execution_count": 23,
   "metadata": {},
   "outputs": [],
   "source": [
    "model = Word2Vec(\n",
    "        multigram,\n",
    "        size=50,\n",
    "        window=10,\n",
    "        min_count=2,\n",
    "        workers=10)"
   ]
  },
  {
   "cell_type": "code",
   "execution_count": 4,
   "metadata": {},
   "outputs": [],
   "source": [
    "#my_trained_vectors = model.wv\n",
    "# save vectors to file if you want to use them later\n",
    "#my_trained_vectors.save_word2vec_format(data_dir+'keyword_embeddings.txt', binary=False)\n",
    "wv_dir = data_dir+'keyword_embeddings.txt'\n",
    "my_trained_vectors = KeyedVectors.load_word2vec_format(wv_dir, binary=False)"
   ]
  },
  {
   "cell_type": "code",
   "execution_count": 7,
   "metadata": {},
   "outputs": [
    {
     "data": {
      "text/plain": [
       "[('functional_abdominal_pain', 0.9835245013237),\n",
       " ('emotional_problems', 0.980448842048645),\n",
       " ('human-animal_interaction', 0.9799908399581909),\n",
       " ('developmental_trajectories', 0.9799060821533203),\n",
       " ('disorganization', 0.9796879887580872),\n",
       " ('war_trauma', 0.9794590473175049),\n",
       " ('sleep_problems', 0.9788360595703125),\n",
       " ('problem_behavior', 0.978668212890625),\n",
       " ('toddlers', 0.9786627292633057),\n",
       " ('elementary_school_children', 0.9784799814224243),\n",
       " ('lesbianism', 0.9780399799346924),\n",
       " ('parental_distress', 0.9779379367828369),\n",
       " ('behavior_problems', 0.9779227375984192),\n",
       " ('parenting_stress', 0.977689266204834),\n",
       " ('offender', 0.9776219725608826),\n",
       " ('self-injurious_behaviour', 0.977353572845459),\n",
       " ('mild_traumatic_brain_injuries', 0.9772837162017822),\n",
       " ('parent-child_relationship', 0.9772807955741882),\n",
       " ('early_experience', 0.9770603775978088),\n",
       " ('maternal_stress', 0.9766738414764404)]"
      ]
     },
     "execution_count": 7,
     "metadata": {},
     "output_type": "execute_result"
    }
   ],
   "source": [
    "my_trained_vectors.most_similar(\"sexual\", topn=20)"
   ]
  },
  {
   "cell_type": "code",
   "execution_count": 8,
   "metadata": {},
   "outputs": [
    {
     "data": {
      "text/plain": [
       "[('discipline', 0.9951053857803345),\n",
       " ('nudging', 0.9942163825035095),\n",
       " ('change', 0.9940422177314758),\n",
       " ('cross-national', 0.9936725497245789),\n",
       " ('social_change', 0.993491530418396),\n",
       " ('respect', 0.9931639432907104),\n",
       " ('persuasion', 0.9927346706390381),\n",
       " ('parent_education', 0.9924598932266235),\n",
       " ('resiliency', 0.992268979549408),\n",
       " ('interpersonal_communication', 0.9922248125076294),\n",
       " ('collective_action', 0.9921103119850159),\n",
       " ('credibility', 0.9921063780784607),\n",
       " ('communications_media', 0.9920382499694824),\n",
       " ('social_network_analysis', 0.9918795824050903),\n",
       " ('legitimacy', 0.9918525815010071)]"
      ]
     },
     "execution_count": 8,
     "metadata": {},
     "output_type": "execute_result"
    }
   ],
   "source": [
    "one=\"lesbianism\"\n",
    "two = \"law\"\n",
    "\n",
    "my_trained_vectors.most_similar(positive=[one,two], topn=15)"
   ]
  },
  {
   "cell_type": "code",
   "execution_count": 63,
   "metadata": {},
   "outputs": [
    {
     "data": {
      "text/plain": [
       "0.7433786639957715"
      ]
     },
     "execution_count": 63,
     "metadata": {},
     "output_type": "execute_result"
    }
   ],
   "source": [
    "my_trained_vectors.similarity(one,two)"
   ]
  },
  {
   "cell_type": "code",
   "execution_count": 116,
   "metadata": {},
   "outputs": [
    {
     "name": "stdout",
     "output_type": "stream",
     "text": [
      "yes\n"
     ]
    }
   ],
   "source": [
    "if 'machine_learning' in my_trained_vectors:\n",
    "    print('yes')"
   ]
  },
  {
   "cell_type": "code",
   "execution_count": 6,
   "metadata": {},
   "outputs": [],
   "source": [
    "f = open(data_dir+out_name,'r',encoding = 'utf8')\n",
    "abst = [json.loads(line)['abstract'] for line in f]  \n",
    "abst_len = [len(i.split(' ')) for i in abst]\n",
    "c = Counter(abst_len)"
   ]
  },
  {
   "cell_type": "code",
   "execution_count": 10,
   "metadata": {},
   "outputs": [
    {
     "data": {
      "text/plain": [
       "1904283"
      ]
     },
     "execution_count": 10,
     "metadata": {},
     "output_type": "execute_result"
    }
   ],
   "source": [
    "key[0:10]\n",
    "len(abst)"
   ]
  },
  {
   "cell_type": "code",
   "execution_count": null,
   "metadata": {},
   "outputs": [],
   "source": []
  }
 ],
 "metadata": {
  "kernelspec": {
   "display_name": "Python 3",
   "language": "python",
   "name": "python3"
  },
  "language_info": {
   "codemirror_mode": {
    "name": "ipython",
    "version": 3
   },
   "file_extension": ".py",
   "mimetype": "text/x-python",
   "name": "python",
   "nbconvert_exporter": "python",
   "pygments_lexer": "ipython3",
   "version": "3.6.7"
  }
 },
 "nbformat": 4,
 "nbformat_minor": 2
}
