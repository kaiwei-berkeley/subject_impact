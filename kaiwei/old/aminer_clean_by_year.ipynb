{
 "cells": [
  {
   "cell_type": "code",
   "execution_count": 1,
   "metadata": {},
   "outputs": [],
   "source": [
    "import re\n",
    "import numpy as np\n",
    "import pandas as pd\n",
    "from collections import Counter\n",
    "import matplotlib.pyplot as plt\n",
    "import seaborn as sns\n",
    "import json\n",
    "import os"
   ]
  },
  {
   "cell_type": "code",
   "execution_count": 4,
   "metadata": {},
   "outputs": [
    {
     "data": {
      "text/plain": [
       "array([2004, 2005, 2006, 2007, 2008, 2009, 2010, 2011, 2012, 2013, 2014,\n",
       "       2015, 2016, 2017, 2018])"
      ]
     },
     "execution_count": 4,
     "metadata": {},
     "output_type": "execute_result"
    }
   ],
   "source": [
    "data_dir = \"..\\\\data\\\\oag2019\\\\filtered_aminer\"\n",
    "file_names = os.listdir(data_dir)\n",
    "years = np.arange(2004,2019)"
   ]
  },
  {
   "cell_type": "code",
   "execution_count": 5,
   "metadata": {},
   "outputs": [
    {
     "name": "stdout",
     "output_type": "stream",
     "text": [
      "Wall time: 0 ns\n",
      "scanning: filtered_aminer_papers_0.txt\n",
      "scanning: filtered_aminer_papers_1.txt\n",
      "scanning: filtered_aminer_papers_10.txt\n",
      "scanning: filtered_aminer_papers_11.txt\n",
      "scanning: filtered_aminer_papers_12.txt\n",
      "scanning: filtered_aminer_papers_13.txt\n",
      "scanning: filtered_aminer_papers_14.txt\n",
      "scanning: filtered_aminer_papers_2.txt\n",
      "scanning: filtered_aminer_papers_3.txt\n",
      "scanning: filtered_aminer_papers_4.txt\n",
      "scanning: filtered_aminer_papers_5.txt\n",
      "scanning: filtered_aminer_papers_6.txt\n",
      "scanning: filtered_aminer_papers_7.txt\n",
      "scanning: filtered_aminer_papers_8.txt\n",
      "scanning: filtered_aminer_papers_9.txt\n"
     ]
    }
   ],
   "source": [
    "%time\n",
    "out_dir = \"..\\\\data\\\\oag2019\\\\aminer_year\\\\\"\n",
    "out_names = ['aminer_'+str(i)+'.txt' for i in years]\n",
    "fs = [open(out_dir+name, 'w') for name in out_names]\n",
    "\n",
    "for file_name in file_names:\n",
    "    f = open(data_dir+'\\\\'+file_name,'r',encoding='utf8')\n",
    "    print('scanning:',file_name)\n",
    "    for i,line in enumerate(f):\n",
    "        json_line = json.loads(line)\n",
    "        year = json_line['year']\n",
    "        if year >= 2004 and year <= 2018:\n",
    "            index = out_names.index('aminer_'+str(year)+'.txt')\n",
    "            fs[index].write(line)\n",
    "    f.close()\n",
    "\n",
    "for out in fs:\n",
    "    out.close()\n"
   ]
  },
  {
   "cell_type": "code",
   "execution_count": null,
   "metadata": {},
   "outputs": [],
   "source": []
  }
 ],
 "metadata": {
  "kernelspec": {
   "display_name": "Python 3",
   "language": "python",
   "name": "python3"
  },
  "language_info": {
   "codemirror_mode": {
    "name": "ipython",
    "version": 3
   },
   "file_extension": ".py",
   "mimetype": "text/x-python",
   "name": "python",
   "nbconvert_exporter": "python",
   "pygments_lexer": "ipython3",
   "version": "3.6.7"
  }
 },
 "nbformat": 4,
 "nbformat_minor": 2
}
