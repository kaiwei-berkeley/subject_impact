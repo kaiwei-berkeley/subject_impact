{
 "cells": [
  {
   "cell_type": "code",
   "execution_count": 2,
   "metadata": {},
   "outputs": [],
   "source": [
    "## First step cleaning goal:\n",
    "# filter papers with english lang, keywords, abstract, references, and issn\n",
    "# save papers to according published year\n",
    "# get paper_info dataframe for next step\n",
    "import re\n",
    "import numpy as np\n",
    "import pandas as pd\n",
    "from collections import Counter\n",
    "import matplotlib.pyplot as plt\n",
    "import seaborn as sns\n",
    "import json\n",
    "import os\n",
    "import math"
   ]
  },
  {
   "cell_type": "code",
   "execution_count": null,
   "metadata": {},
   "outputs": [],
   "source": [
    "\n",
    "journal_dir = \"..\\\\data\\\\scopus\"\n",
    "dat = pd.read_csv(journal_dir+'\\\\'+'journal_subject.csv',keep_default_na = False)\n",
    "\n",
    "print(dat.dtypes)\n",
    "all_issn = []\n",
    "all_issn.append(dat['Print-ISSN'].unique())\n",
    "all_issn.append(dat['E-ISSN'].unique())\n",
    "all_issn = [i for sub in all_issn for i in sub]\n",
    "\n",
    "## Get the dictionary of issn: list of subject\n",
    "issn_subject = {}\n",
    "for i in range(dat.shape[0]):\n",
    "\n",
    "    if dat.iloc[i,5] not in issn_subject:\n",
    "        issn_subject[dat.iloc[i,5]] = [dat.iloc[i,3]]\n",
    "    else:\n",
    "        issn_subject[dat.iloc[i,5]].append(dat.iloc[i,3])\n",
    "    if dat.iloc[i,6] not in issn_subject:\n",
    "        issn_subject[dat.iloc[i,6]] = [dat.iloc[i,3]]\n",
    "    else:\n",
    "        issn_subject[dat.iloc[i,6]].append(dat.iloc[i,3])\n",
    "## delete na key\n",
    "del issn_subject[\"\"]\n"
   ]
  },
  {
   "cell_type": "code",
   "execution_count": null,
   "metadata": {},
   "outputs": [],
   "source": [
    "data_dir = \"..\\\\data\\\\\"\n",
    "file_names = os.listdir(data_dir)[:-3]\n",
    "os.listdir(data_dir)[-3:]"
   ]
  },
  {
   "cell_type": "code",
   "execution_count": null,
   "metadata": {
    "scrolled": true
   },
   "outputs": [],
   "source": [
    "## set up folder like following\n",
    "## -data\n",
    "##   -by_year\n",
    "##   aminer_paper_0.txt ...\n",
    "\n",
    "data_dir = \"..\\\\data\"\n",
    "## only keep data file, exclude folds\n",
    "file_names = os.listdir(data_dir)[:-1]\n",
    "\n",
    "## output file  \n",
    "years = np.arange(1990,2019)\n",
    "out_dir = \"..\\\\data\\\\by_year\"\n",
    "out_names = ['aminer_'+str(i)+'.txt' for i in years]\n",
    "out_f = [open(out_dir+'\\\\'+name, 'w') for name in out_names]\n",
    "\n",
    "## paper subject table\n",
    "id_t = []\n",
    "year_t = []\n",
    "references_t = []\n",
    "subjects_t = []\n",
    "#header = 'id,year,references,issn,subjects\\n'\n",
    "#paper_f = open(out_dir+'\\\\'+'paper_info.csv','w')\n",
    "#paper_f.write(header)\n",
    "\n",
    "for file in file_names:\n",
    "    print('filtering file:',file)\n",
    "    f = open(data_dir+'\\\\'+file,'r',encoding = 'utf8')\n",
    "    \n",
    "    for i, line in enumerate(f):\n",
    "        if (i+2) % 250000 == 0:\n",
    "            print('file '+file+': ',round((i+2)/1000000*100,1),\"%\")\n",
    "        json_line = json.loads(line)\n",
    "        if 'year' in json_line and 'keywords' in json_line and \\\n",
    "        'abstract' in json_line and 'lang' in json_line and \\\n",
    "        'references' in json_line and 'issn' in json_line:\n",
    "            \n",
    "            issn = re.sub('-','',json_line['issn'])\n",
    "            year = json_line['year']\n",
    "            if json_line['lang'] == 'en' and issn in issn_subject and \\\n",
    "            year >= 2000 and year <= 2018 :\n",
    "                \n",
    "                ## store paper info, later use to get the subject of the paper\n",
    "                id_t.append(json_line['id'])\n",
    "                year_t.append(json_line['year'])\n",
    "                references_t.append(json_line['references'])\n",
    "                subjects_t.append(issn_subject[issn])\n",
    "                \n",
    "                ## write to paper_year\n",
    "                index = out_names.index('aminer_'+str(year)+'.txt')\n",
    "                out_f[index].write(line)\n",
    "    f.close()\n",
    "    \n",
    "for out in out_f:\n",
    "    out.close()\n"
   ]
  },
  {
   "cell_type": "code",
   "execution_count": null,
   "metadata": {},
   "outputs": [],
   "source": [
    "paper_info = pd.DataFrame({'id':id_t,'year':year_t,'refereneces':references_t,'subjects':subjects_t})\n",
    "paper_info.to_csv(out_dir+'\\\\paper_info.csv',index = False)\n",
    "paper_info.head()\n",
    "\n",
    "###################### First step cleaning stop here ###########################"
   ]
  },
  {
   "cell_type": "code",
   "execution_count": 3,
   "metadata": {},
   "outputs": [],
   "source": [
    "## Refer to paper_subject.ipynb for second step\n",
    "## Second step goal:\n",
    "##  Use paper_info to get the subject of each paper\n",
    "\n",
    "################################### DO NOT RUN FOLLOWING BLOCKS #############################\n",
    "out_dir = \"..\\\\data\\\\by_year\"\n",
    "paper_info = pd.read_csv(out_dir+'\\\\paper_info.csv',index_col = 'id')"
   ]
  },
  {
   "cell_type": "code",
   "execution_count": 4,
   "metadata": {},
   "outputs": [
    {
     "data": {
      "text/html": [
       "<div>\n",
       "<style scoped>\n",
       "    .dataframe tbody tr th:only-of-type {\n",
       "        vertical-align: middle;\n",
       "    }\n",
       "\n",
       "    .dataframe tbody tr th {\n",
       "        vertical-align: top;\n",
       "    }\n",
       "\n",
       "    .dataframe thead th {\n",
       "        text-align: right;\n",
       "    }\n",
       "</style>\n",
       "<table border=\"1\" class=\"dataframe\">\n",
       "  <thead>\n",
       "    <tr style=\"text-align: right;\">\n",
       "      <th></th>\n",
       "      <th>year</th>\n",
       "      <th>refereneces</th>\n",
       "      <th>subjects</th>\n",
       "    </tr>\n",
       "    <tr>\n",
       "      <th>id</th>\n",
       "      <th></th>\n",
       "      <th></th>\n",
       "      <th></th>\n",
       "    </tr>\n",
       "  </thead>\n",
       "  <tbody>\n",
       "    <tr>\n",
       "      <th>53e99784b7602d9701f3e13e</th>\n",
       "      <td>2011</td>\n",
       "      <td>['53e99b4ab7602d97023ea8fd', '53e997f8b7602d97...</td>\n",
       "      <td>[1308, 1312, 1307]</td>\n",
       "    </tr>\n",
       "    <tr>\n",
       "      <th>53e99784b7602d9701f3e4f2</th>\n",
       "      <td>2002</td>\n",
       "      <td>['53e9a611b7602d9702f42159', '53e9b316b7602d97...</td>\n",
       "      <td>[2716, 1311, 1313, 1312]</td>\n",
       "    </tr>\n",
       "    <tr>\n",
       "      <th>53e9978db7602d9701f4f415</th>\n",
       "      <td>2005</td>\n",
       "      <td>['53e9aa41b7602d97033af1b3', '53e9b1b0b7602d97...</td>\n",
       "      <td>[1300]</td>\n",
       "    </tr>\n",
       "    <tr>\n",
       "      <th>53e99792b7602d9701f56a86</th>\n",
       "      <td>2004</td>\n",
       "      <td>['53e9abbeb7602d970356d932', '53e9ad6cb7602d97...</td>\n",
       "      <td>[2738]</td>\n",
       "    </tr>\n",
       "    <tr>\n",
       "      <th>53e99792b7602d9701f5b087</th>\n",
       "      <td>2008</td>\n",
       "      <td>['53e99f9bb7602d970287329d', '53e9abfdb7602d97...</td>\n",
       "      <td>[2503, 2506, 2505, 2508, 2504, 1600, 1503]</td>\n",
       "    </tr>\n",
       "  </tbody>\n",
       "</table>\n",
       "</div>"
      ],
      "text/plain": [
       "                          year  \\\n",
       "id                               \n",
       "53e99784b7602d9701f3e13e  2011   \n",
       "53e99784b7602d9701f3e4f2  2002   \n",
       "53e9978db7602d9701f4f415  2005   \n",
       "53e99792b7602d9701f56a86  2004   \n",
       "53e99792b7602d9701f5b087  2008   \n",
       "\n",
       "                                                                refereneces  \\\n",
       "id                                                                            \n",
       "53e99784b7602d9701f3e13e  ['53e99b4ab7602d97023ea8fd', '53e997f8b7602d97...   \n",
       "53e99784b7602d9701f3e4f2  ['53e9a611b7602d9702f42159', '53e9b316b7602d97...   \n",
       "53e9978db7602d9701f4f415  ['53e9aa41b7602d97033af1b3', '53e9b1b0b7602d97...   \n",
       "53e99792b7602d9701f56a86  ['53e9abbeb7602d970356d932', '53e9ad6cb7602d97...   \n",
       "53e99792b7602d9701f5b087  ['53e99f9bb7602d970287329d', '53e9abfdb7602d97...   \n",
       "\n",
       "                                                            subjects  \n",
       "id                                                                    \n",
       "53e99784b7602d9701f3e13e                          [1308, 1312, 1307]  \n",
       "53e99784b7602d9701f3e4f2                    [2716, 1311, 1313, 1312]  \n",
       "53e9978db7602d9701f4f415                                      [1300]  \n",
       "53e99792b7602d9701f56a86                                      [2738]  \n",
       "53e99792b7602d9701f5b087  [2503, 2506, 2505, 2508, 2504, 1600, 1503]  "
      ]
     },
     "execution_count": 4,
     "metadata": {},
     "output_type": "execute_result"
    }
   ],
   "source": [
    "paper_info.head()"
   ]
  },
  {
   "cell_type": "code",
   "execution_count": 19,
   "metadata": {},
   "outputs": [
    {
     "data": {
      "image/png": "[encoded data removed]",
      "text/plain": [
       "<Figure size 1080x432 with 1 Axes>"
      ]
     },
     "metadata": {
      "needs_background": "light"
     },
     "output_type": "display_data"
    }
   ],
   "source": [
    "plt.figure(figsize=(15,6))\n",
    "plt.title(\"paper year count\")\n",
    "ax = sns.countplot(x = 'year', data = paper_info)"
   ]
  },
  {
   "cell_type": "code",
   "execution_count": 21,
   "metadata": {},
   "outputs": [],
   "source": [
    "i = 4\n",
    "def get_subject_num(i):\n",
    "    ##take in index of paper_info, return 2 digits subject code\n",
    "    ## if journal has only one subject, return the subject num\n",
    "    sub_num = [int(s.strip(\" [],\")) for s in paper_info.iloc[i,2].split(\",\") if s.strip(\" [],\") != \"\"]\n",
    "    if len(sub_num) == 1:\n",
    "        return sub_num[0]//100\n",
    "    else:\n",
    "        has_ref = False\n",
    "        subject_list = []\n",
    "        ref_list = [s.strip(\" [],\") for s in paper_info.iloc[i,1].split(\"'\") if s.strip(\" [],\") != \"\"]\n",
    "        for ref in ref_list:\n",
    "            if ref in paper_info.index:\n",
    "                has_ref = True\n",
    "                sub_num_list = [int(s.strip(\" [],\")) for s in paper_info.loc[ref][2].split(\",\") if s.strip(\" [],\") != \"\"]\n",
    "                subject_list += sub_num \n",
    "                count_subject = Counter(np.array(subject_list)//100)\n",
    "        ## Elements with equal counts are ordered and chose arbitrarily\n",
    "        if has_ref:\n",
    "            return count_subject.most_common(1)[0][0]\n",
    "        else:\n",
    "            return None\n",
    "get_subject_num(i)"
   ]
  },
  {
   "cell_type": "code",
   "execution_count": 26,
   "metadata": {},
   "outputs": [
    {
     "data": {
      "text/plain": [
       "30000"
      ]
     },
     "execution_count": 26,
     "metadata": {},
     "output_type": "execute_result"
    }
   ],
   "source": [
    "paper_subject = []\n",
    "for i in range(paper_info.shape[0]):\n",
    "    if i == 30000: break\n",
    "    paper_subject.append(get_subject_num(i))\n",
    "len(paper_subject)"
   ]
  },
  {
   "cell_type": "code",
   "execution_count": 27,
   "metadata": {},
   "outputs": [
    {
     "data": {
      "image/png": "[encoded data removed]",
      "text/plain": [
       "<Figure size 1080x432 with 1 Axes>"
      ]
     },
     "metadata": {
      "needs_background": "light"
     },
     "output_type": "display_data"
    }
   ],
   "source": [
    "plt.figure(figsize=(15,6))\n",
    "plt.title(\"paper subject count\")\n",
    "ax = sns.countplot(x = paper_subject)"
   ]
  },
  {
   "cell_type": "code",
   "execution_count": null,
   "metadata": {},
   "outputs": [],
   "source": []
  }
 ],
 "metadata": {
  "kernelspec": {
   "display_name": "Python 3",
   "language": "python",
   "name": "python3"
  },
  "language_info": {
   "codemirror_mode": {
    "name": "ipython",
    "version": 3
   },
   "file_extension": ".py",
   "mimetype": "text/x-python",
   "name": "python",
   "nbconvert_exporter": "python",
   "pygments_lexer": "ipython3",
   "version": "3.6.7"
  }
 },
 "nbformat": 4,
 "nbformat_minor": 2
}
