{
 "cells": [
  {
   "cell_type": "code",
   "execution_count": 1,
   "metadata": {},
   "outputs": [],
   "source": [
    "## Second step goal:\n",
    "##  Use paper_info to get the subject of each paper\n",
    "import re\n",
    "import numpy as np\n",
    "import pandas as pd\n",
    "from collections import Counter\n",
    "import matplotlib.pyplot as plt\n",
    "import seaborn as sns\n",
    "import json\n",
    "import os\n",
    "import math"
   ]
  },
  {
   "cell_type": "code",
   "execution_count": 2,
   "metadata": {},
   "outputs": [],
   "source": [
    "out_dir = \"..\\\\data\\\\by_year\"\n",
    "paper_info = pd.read_csv(out_dir+'\\\\paper_info.csv',index_col = 'id')"
   ]
  },
  {
   "cell_type": "code",
   "execution_count": 3,
   "metadata": {},
   "outputs": [
    {
     "data": {
      "text/plain": [
       "(2552827, 3)"
      ]
     },
     "execution_count": 3,
     "metadata": {},
     "output_type": "execute_result"
    }
   ],
   "source": [
    "paper_info.shape"
   ]
  },
  {
   "cell_type": "code",
   "execution_count": 7,
   "metadata": {},
   "outputs": [
    {
     "data": {
      "text/plain": [
       "13"
      ]
     },
     "execution_count": 7,
     "metadata": {},
     "output_type": "execute_result"
    }
   ],
   "source": [
    "#### Use each paper's reference to estimate the subject of the paper\n",
    "\n",
    "def get_subject_num(i):\n",
    "    ##take in index of paper_info, return 2 digits subject code\n",
    "    ## if journal has only one subject, return the subject num\n",
    "    sub_num = [int(s.strip(\" [],\")) for s in paper_info.iloc[i,2].split(\",\") if s.strip(\" [],\") != \"\"]\n",
    "    if len(sub_num) == 1:\n",
    "        return sub_num[0]//100\n",
    "    else:\n",
    "        has_ref = False\n",
    "        subject_list = []\n",
    "        ref_list = [s.strip(\" [],\") for s in paper_info.iloc[i,1].split(\"'\") if s.strip(\" [],\") != \"\"]\n",
    "        for ref in ref_list:\n",
    "            if ref in paper_info.index:\n",
    "                has_ref = True\n",
    "                sub_num_list = [int(s.strip(\" [],\")) for s in paper_info.loc[ref][2].split(\",\") if s.strip(\" [],\") != \"\"]\n",
    "                subject_list += sub_num \n",
    "                count_subject = Counter(np.array(subject_list)//100)\n",
    "        ## Elements with equal counts are ordered and chose arbitrarily\n",
    "        if has_ref:\n",
    "            return count_subject.most_common(1)[0][0]\n",
    "        else:\n",
    "            return None\n",
    "get_subject_num(1)"
   ]
  },
  {
   "cell_type": "code",
   "execution_count": 9,
   "metadata": {},
   "outputs": [
    {
     "name": "stdout",
     "output_type": "stream",
     "text": [
      "10.0 %\n",
      "20.0 %\n",
      "30.0 %\n",
      "40.0 %\n",
      "50.0 %\n",
      "60.0 %\n",
      "70.0 %\n",
      "80.0 %\n",
      "90.0 %\n",
      "100.0 %\n"
     ]
    }
   ],
   "source": [
    "paper_subject = np.zeros(paper_info.shape[0])\n",
    "for i in range(paper_info.shape[0]):\n",
    "    if (i+2) % 255280 == 0:\n",
    "        print(round((i+2)/2552827*100,1),\"%\")\n",
    "    paper_subject[i] = get_subject_num(i)"
   ]
  },
  {
   "cell_type": "code",
   "execution_count": 14,
   "metadata": {},
   "outputs": [],
   "source": [
    "# Write\n",
    "out_dir = \"..\\\\data\\\\by_year\"\n",
    "paper_subject_match = pd.DataFrame({'id':paper_info.index,'paper_subject':paper_subject})\n",
    "paper_subject_match.to_csv(out_dir+'\\\\paper_subject_match.csv',index = False)"
   ]
  },
  {
   "cell_type": "code",
   "execution_count": 16,
   "metadata": {},
   "outputs": [],
   "source": [
    "# Read \n",
    "#paper_subject_match = pd.read_csv(out_dir+'\\\\paper_subject_match.csv',index_col = 'id')"
   ]
  },
  {
   "cell_type": "code",
   "execution_count": 17,
   "metadata": {},
   "outputs": [
    {
     "data": {
      "image/png": "[encoded data removed]",
      "text/plain": [
       "<Figure size 1080x432 with 1 Axes>"
      ]
     },
     "metadata": {
      "needs_background": "light"
     },
     "output_type": "display_data"
    }
   ],
   "source": [
    "plt.figure(figsize=(15,6))\n",
    "plt.title(\"paper subject count\")\n",
    "ax = sns.countplot(x = paper_subject)"
   ]
  }
 ],
 "metadata": {
  "kernelspec": {
   "display_name": "Python 3",
   "language": "python",
   "name": "python3"
  },
  "language_info": {
   "codemirror_mode": {
    "name": "ipython",
    "version": 3
   },
   "file_extension": ".py",
   "mimetype": "text/x-python",
   "name": "python",
   "nbconvert_exporter": "python",
   "pygments_lexer": "ipython3",
   "version": "3.6.7"
  }
 },
 "nbformat": 4,
 "nbformat_minor": 2
}
