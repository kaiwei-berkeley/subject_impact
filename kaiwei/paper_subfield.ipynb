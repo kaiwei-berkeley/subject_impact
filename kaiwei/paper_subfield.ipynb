{
 "cells": [
  {
   "cell_type": "code",
   "execution_count": 5,
   "metadata": {},
   "outputs": [],
   "source": [
    "import re\n",
    "import numpy as np\n",
    "import pandas as pd\n",
    "from collections import Counter\n",
    "import matplotlib.pyplot as plt\n",
    "import seaborn as sns\n",
    "import json\n",
    "import os\n",
    "import math"
   ]
  },
  {
   "cell_type": "code",
   "execution_count": 2,
   "metadata": {},
   "outputs": [],
   "source": [
    "out_dir = \"..\\\\data\\\\by_year\"\n",
    "paper_info = pd.read_csv(out_dir+'\\\\paper_info_1990.csv',index_col = 'id')"
   ]
  },
  {
   "cell_type": "code",
   "execution_count": 3,
   "metadata": {},
   "outputs": [
    {
     "data": {
      "text/plain": [
       "(2991003, 4)"
      ]
     },
     "execution_count": 3,
     "metadata": {},
     "output_type": "execute_result"
    }
   ],
   "source": [
    "paper_info.shape"
   ]
  },
  {
   "cell_type": "code",
   "execution_count": 4,
   "metadata": {},
   "outputs": [
    {
     "data": {
      "text/plain": [
       "Index(['year', 'refereneces', 'issn', 'subjects'], dtype='object')"
      ]
     },
     "execution_count": 4,
     "metadata": {},
     "output_type": "execute_result"
    }
   ],
   "source": [
    "paper_info.columns"
   ]
  },
  {
   "cell_type": "code",
   "execution_count": 13,
   "metadata": {},
   "outputs": [
    {
     "name": "stdout",
     "output_type": "stream",
     "text": [
      "[1308, 1312, 1307]\n",
      "['53e99b4ab7602d97023ea8fd', '53e997f8b7602d9701ffea5d', '53e9aff4b7602d9703a4bbcd', '53e99a43b7602d97022a19e9', '53e9a789b7602d97030c3df9', '53e9b54fb7602d9704085d67', '56d8242adabfae2eeed0f300', '53e99e62b7602d9702729740', '55a3d232612ca6486879b4fe', '53e9bd81b7602d9704a23f4c', '53e9b775b7602d970431a37c', '53e9bbb5b7602d97048004a5', '53e9a3b9b7602d9702cc8299', '53e9a757b7602d970309091e', '53e9b850b7602d97044127d0', '56d9292adabfae2eeecdce79', '53e9a37ab7602d9702c8622e', '55a3ba48c91b587b0960936f', '53e9ba05b7602d97046046f6', '53e99d73b7602d970262b422', '53e9bc4eb7602d97048c2d96', '53e9ba3fb7602d970464d39d', '55a34f99612ca6486868b720', '53e9a4cfb7602d9702df183b', '56d9106adabfae2eee37df11', '53e9b587b7602d97040c8808', '53e9baa0b7602d97046cba95', '53e999a5b7602d97021e85ac', '55a3a273612ca6486873e655', '53e9b0f5b7602d9703b719f2', '53e9b4e9b7602d9704014652', '53e997f8b7602d9701ffea75', '53e9a3e7b7602d9702cfc56e', '53e9b070b7602d9703ada007', '53e9b63bb7602d970419830d', '53e99cf5b7602d97025abef2', '53e99f3ab7602d9702808e80', '55a5e55965cead59c82eb739', '55a485bb2401032899725b80', '53e99a48b7602d97022a7355', '53e9b621b7602d970417b97a', '53e99984b7602d97021c6e4f', '53e9ae0bb7602d9703814cac', '56d82095dabfae2eeeb98d7b', '53e9a584b7602d9702eac058', '53e9a8ccb7602d9703219eb3', '53e99eeeb7602d97027bad18', '53e99b21b7602d97023b820c', '53e9ae6fb7602d970388d1f0', '56d8fe08dabfae2eeec50589', '53e9b1a3b7602d9703c2dcbf']\n"
     ]
    },
    {
     "data": {
      "text/plain": [
       "Counter({2712: 1,\n",
       "         1310: 1,\n",
       "         2730: 2,\n",
       "         1306: 2,\n",
       "         2734: 2,\n",
       "         2746: 2,\n",
       "         1304: 1,\n",
       "         1303: 1,\n",
       "         1311: 1,\n",
       "         1315: 1,\n",
       "         1312: 1,\n",
       "         1307: 1,\n",
       "         2715: 2,\n",
       "         2735: 1,\n",
       "         3000: 1,\n",
       "         2736: 1,\n",
       "         1000: 1,\n",
       "         2737: 1})"
      ]
     },
     "execution_count": 13,
     "metadata": {},
     "output_type": "execute_result"
    }
   ],
   "source": [
    "i = 0\n",
    "sub_num = [int(s.strip(\" [],\")) for s in paper_info.iloc[i,3].split(\",\") if s.strip(\" [],\") != \"\"]\n",
    "print(sub_num)\n",
    "subject_list = []\n",
    "ref_list = [s.strip(\" [],\") for s in paper_info.iloc[i,1].split(\"'\") if s.strip(\" [],\") != \"\"]\n",
    "print(ref_list)\n",
    "for ref in ref_list:\n",
    "    if ref in paper_info.index:\n",
    "        sub_num_list = [int(s.strip(\" [],\")) for s in paper_info.loc[ref][3].split(\",\") if s.strip(\" [],\") != \"\"]\n",
    "        subject_list += sub_num_list \n",
    "        count_subject = Counter(np.array(subject_list))\n",
    "sub_num_list\n",
    "count_subject\n"
   ]
  },
  {
   "cell_type": "code",
   "execution_count": null,
   "metadata": {},
   "outputs": [],
   "source": [
    "#### Use each paper's reference to estimate the subfield of the paper\n",
    "\n",
    "def get_subject_num(i):\n",
    "    ##take in index of paper_info, return 4 digits subfiled code\n",
    "    ## if journal has only one subject, return the subject num\n",
    "    sub_num = [int(s.strip(\" [],\")) for s in paper_info.iloc[i,3].split(\",\") if s.strip(\" [],\") != \"\"]\n",
    "    if len(sub_num) == 1:\n",
    "        return sub_num[0]//100\n",
    "    else:\n",
    "        has_ref = False\n",
    "        subject_list = []\n",
    "        ref_list = [s.strip(\" [],\") for s in paper_info.iloc[i,1].split(\"'\") if s.strip(\" [],\") != \"\"]\n",
    "        for ref in ref_list:\n",
    "            if ref in paper_info.index:\n",
    "                has_ref = True\n",
    "                sub_num_list = [int(s.strip(\" [],\")) for s in paper_info.loc[ref][3].split(\",\") if s.strip(\" [],\") != \"\"]\n",
    "                subject_list += sub_num \n",
    "                count_subject = Counter(np.array(subject_list)//100)\n",
    "        ## Elements with equal counts are ordered and chose arbitrarily\n",
    "        if has_ref:\n",
    "            return count_subject.most_common(1)[0][0]\n",
    "        else:\n",
    "            return None\n",
    "get_subject_num(1)"
   ]
  },
  {
   "cell_type": "code",
   "execution_count": null,
   "metadata": {},
   "outputs": [],
   "source": [
    "paper_subject = np.zeros(paper_info.shape[0])\n",
    "for i in range(paper_info.shape[0]):\n",
    "    if (i+2) % 255280 == 0:\n",
    "        print(round((i+2)/paper_info.shape[0]*100,1),\"%\")\n",
    "    paper_subject[i] = get_subject_num(i)"
   ]
  }
 ],
 "metadata": {
  "kernelspec": {
   "display_name": "Python 3",
   "language": "python",
   "name": "python3"
  },
  "language_info": {
   "codemirror_mode": {
    "name": "ipython",
    "version": 3
   },
   "file_extension": ".py",
   "mimetype": "text/x-python",
   "name": "python",
   "nbconvert_exporter": "python",
   "pygments_lexer": "ipython3",
   "version": "3.6.7"
  }
 },
 "nbformat": 4,
 "nbformat_minor": 2
}
