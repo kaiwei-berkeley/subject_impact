{
 "cells": [
  {
   "cell_type": "code",
   "execution_count": 24,
   "metadata": {},
   "outputs": [],
   "source": [
    "import pandas as pd"
   ]
  },
  {
   "cell_type": "code",
   "execution_count": 25,
   "metadata": {},
   "outputs": [],
   "source": [
    "yr = {}\n",
    "for i in range(2000,2016):\n",
    "    file = \"dist_\" + str(i)\n",
    "    df = pd.read_csv(file)\n",
    "    df = df.fillna(0)\n",
    "    dt = df[\"distance\"].tolist()\n",
    "    yr.update({i:dt})"
   ]
  },
  {
   "cell_type": "code",
   "execution_count": 26,
   "metadata": {},
   "outputs": [],
   "source": [
    "ls = []\n",
    "for j in range(len(dt)):\n",
    "    d = {}\n",
    "    for k in yr.keys():\n",
    "        d.update({k:yr[k][j]})\n",
    "    ls.append(d)"
   ]
  },
  {
   "cell_type": "code",
   "execution_count": 27,
   "metadata": {},
   "outputs": [],
   "source": [
    "dist_by_year = df.copy()\n",
    "dist_by_year[\"distance_by_year\"] = ls\n",
    "dist_by_year = dist_by_year.drop(columns=[\"Unnamed: 0\",\"distance\"])"
   ]
  },
  {
   "cell_type": "code",
   "execution_count": 28,
   "metadata": {},
   "outputs": [
    {
     "data": {
      "text/html": [
       "<div>\n",
       "<style scoped>\n",
       "    .dataframe tbody tr th:only-of-type {\n",
       "        vertical-align: middle;\n",
       "    }\n",
       "\n",
       "    .dataframe tbody tr th {\n",
       "        vertical-align: top;\n",
       "    }\n",
       "\n",
       "    .dataframe thead th {\n",
       "        text-align: right;\n",
       "    }\n",
       "</style>\n",
       "<table border=\"1\" class=\"dataframe\">\n",
       "  <thead>\n",
       "    <tr style=\"text-align: right;\">\n",
       "      <th></th>\n",
       "      <th>sub1</th>\n",
       "      <th>sub2</th>\n",
       "      <th>distance_by_year</th>\n",
       "    </tr>\n",
       "  </thead>\n",
       "  <tbody>\n",
       "    <tr>\n",
       "      <th>0</th>\n",
       "      <td>1000</td>\n",
       "      <td>1000</td>\n",
       "      <td>{2000: 0.0, 2001: 0.0, 2002: 0.0, 2003: 0.0, 2...</td>\n",
       "    </tr>\n",
       "    <tr>\n",
       "      <th>1</th>\n",
       "      <td>1000</td>\n",
       "      <td>1100</td>\n",
       "      <td>{2000: 0.1409024500437777, 2001: 0.09730884713...</td>\n",
       "    </tr>\n",
       "    <tr>\n",
       "      <th>2</th>\n",
       "      <td>1000</td>\n",
       "      <td>1101</td>\n",
       "      <td>{2000: 0.0, 2001: 0.0, 2002: 0.0, 2003: 0.0, 2...</td>\n",
       "    </tr>\n",
       "    <tr>\n",
       "      <th>3</th>\n",
       "      <td>1000</td>\n",
       "      <td>1102</td>\n",
       "      <td>{2000: 0.11411477758714765, 2001: 0.1264031245...</td>\n",
       "    </tr>\n",
       "    <tr>\n",
       "      <th>4</th>\n",
       "      <td>1000</td>\n",
       "      <td>1103</td>\n",
       "      <td>{2000: 0.15893021351136769, 2001: 0.1246863033...</td>\n",
       "    </tr>\n",
       "  </tbody>\n",
       "</table>\n",
       "</div>"
      ],
      "text/plain": [
       "   sub1  sub2                                   distance_by_year\n",
       "0  1000  1000  {2000: 0.0, 2001: 0.0, 2002: 0.0, 2003: 0.0, 2...\n",
       "1  1000  1100  {2000: 0.1409024500437777, 2001: 0.09730884713...\n",
       "2  1000  1101  {2000: 0.0, 2001: 0.0, 2002: 0.0, 2003: 0.0, 2...\n",
       "3  1000  1102  {2000: 0.11411477758714765, 2001: 0.1264031245...\n",
       "4  1000  1103  {2000: 0.15893021351136769, 2001: 0.1246863033..."
      ]
     },
     "execution_count": 28,
     "metadata": {},
     "output_type": "execute_result"
    }
   ],
   "source": [
    "dist_by_year.head()"
   ]
  },
  {
   "cell_type": "code",
   "execution_count": 29,
   "metadata": {},
   "outputs": [
    {
     "data": {
      "text/plain": [
       "{2000: 0.1409024500437777,\n",
       " 2001: 0.0973088471354871,\n",
       " 2002: 0.15142291618561096,\n",
       " 2003: 0.11665896419847276,\n",
       " 2004: 0.1022064779683006,\n",
       " 2005: 0.17917346057002595,\n",
       " 2006: 0.15512699330338553,\n",
       " 2007: 0.1114875141739339,\n",
       " 2008: 0.14184470158454662,\n",
       " 2009: 0.12893673934801947,\n",
       " 2010: 0.09741734282677493,\n",
       " 2011: 0.13492878266903902,\n",
       " 2012: 0.1146042952838835,\n",
       " 2013: 0.12840944970362891,\n",
       " 2014: 0.07916680176531304,\n",
       " 2015: 0.12664546818449285}"
      ]
     },
     "execution_count": 29,
     "metadata": {},
     "output_type": "execute_result"
    }
   ],
   "source": [
    "dist_by_year.loc[dist_by_year[\"sub1\"] == 1000][\"distance_by_year\"][1]"
   ]
  },
  {
   "cell_type": "code",
   "execution_count": 30,
   "metadata": {},
   "outputs": [],
   "source": [
    "dist_by_year.to_csv(\"dist_by_year.csv\")"
   ]
  },
  {
   "cell_type": "code",
   "execution_count": null,
   "metadata": {},
   "outputs": [],
   "source": []
  }
 ],
 "metadata": {
  "kernelspec": {
   "display_name": "Python 3",
   "language": "python",
   "name": "python3"
  },
  "language_info": {
   "codemirror_mode": {
    "name": "ipython",
    "version": 3
   },
   "file_extension": ".py",
   "mimetype": "text/x-python",
   "name": "python",
   "nbconvert_exporter": "python",
   "pygments_lexer": "ipython3",
   "version": "3.6.5"
  }
 },
 "nbformat": 4,
 "nbformat_minor": 2
}
